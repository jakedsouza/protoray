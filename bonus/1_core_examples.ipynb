{
 "cells": [
  {
   "cell_type": "markdown",
   "id": "1fd443a5-c9d3-4b6f-ad72-59c1eba1d112",
   "metadata": {},
   "source": [
    "# A Quick Tour of Ray Core"
   ]
  },
  {
   "cell_type": "code",
   "execution_count": 1,
   "id": "98399ea9-933a-452f-be3f-bc1535006443",
   "metadata": {
    "tags": []
   },
   "outputs": [],
   "source": [
    "import ray"
   ]
  },
  {
   "cell_type": "markdown",
   "id": "9ff9ad39-11cb-495e-964f-a05a95159bea",
   "metadata": {},
   "source": [
    "## Ray Core is about...\n",
    "* distributing computation across many cores, nodes, or devices (e.g., accelerators)\n",
    "* scheduling *arbitrary task graphs*\n",
    "    * any code you can write, you can distribute, scale, and accelerate with Ray Core\n",
    "* manage the overhead\n",
    "    * at scale, distributed computation introduces growing \"frictions\" -- data movement, scheduling costs, etc. -- which make the problem harder\n",
    "    * Ray Core addresses these issues as first-order concerns in its design (e.g., via a distributed scheduler)\n",
    " \n",
    "(And, of course, for common technical use cases, libraries and other components provide simple dev ex and are built on top of Ray Core)\n",
    "\n",
    "## `@ray.remote` and `ray.get`"
   ]
  },
  {
   "cell_type": "markdown",
   "id": "bb8b00c1-d320-4b62-a35b-08bea2e848e3",
   "metadata": {},
   "source": [
    "Define a Python function and decorate it so that Ray can schedule it"
   ]
  },
  {
   "cell_type": "code",
   "execution_count": 4,
   "id": "bc20546b-510d-4885-82fa-5d12503d52f4",
   "metadata": {
    "tags": []
   },
   "outputs": [],
   "source": [
    "@ray.remote\n",
    "def square(a):\n",
    "    print(a)\n",
    "    return a*a"
   ]
  },
  {
   "cell_type": "markdown",
   "id": "2dfd3ad7-0d0e-4313-82d7-4d36f2e9537b",
   "metadata": {},
   "source": [
    "Tell Ray to schedule the function"
   ]
  },
  {
   "cell_type": "code",
   "execution_count": 6,
   "id": "c7f0c8a3-f456-4594-a994-0e5a528c3b78",
   "metadata": {
    "tags": []
   },
   "outputs": [
    {
     "name": "stderr",
     "output_type": "stream",
     "text": [
      "2024-09-30 16:25:11,566\tINFO worker.py:1601 -- Connecting to existing Ray cluster at address: 10.0.138.179:6379...\n",
      "2024-09-30 16:25:11,572\tINFO worker.py:1777 -- Connected to Ray cluster. View the dashboard at \u001b[1m\u001b[32mhttps://session-bimi5q6im9gb2znrbq9siuvzkr.i.anyscaleuserdata.com \u001b[39m\u001b[22m\n",
      "2024-09-30 16:25:11,580\tINFO packaging.py:359 -- Pushing file package 'gcs://_ray_pkg_e3d4896360926ce9868c5ec97811968d4f804d61.zip' (0.10MiB) to Ray cluster...\n",
      "2024-09-30 16:25:11,581\tINFO packaging.py:372 -- Successfully pushed file package 'gcs://_ray_pkg_e3d4896360926ce9868c5ec97811968d4f804d61.zip'.\n"
     ]
    },
    {
     "data": {
      "text/plain": [
       "ObjectRef(ca80f3a8e8ba2e50ffffffffffffffffffffffff0400000001000000)"
      ]
     },
     "execution_count": 6,
     "metadata": {},
     "output_type": "execute_result"
    },
    {
     "name": "stdout",
     "output_type": "stream",
     "text": [
      "\u001b[36m(square pid=4512, ip=10.0.162.180)\u001b[0m 3\n",
      "\u001b[36m(square pid=5794, ip=10.0.162.180)\u001b[0m 7\n",
      "\u001b[36m(square pid=5794, ip=10.0.162.180)\u001b[0m 11\n",
      "\u001b[36m(autoscaler +10m51s)\u001b[0m Tip: use `ray status` to view detailed cluster status. To disable these messages, set RAY_SCHEDULER_EVENTS=0.\n",
      "\u001b[36m(square pid=5793, ip=10.0.162.180)\u001b[0m 5\n",
      "\u001b[36m(square pid=5795, ip=10.0.162.180)\u001b[0m 4\n",
      "\u001b[36m(square pid=5794, ip=10.0.162.180)\u001b[0m 2\n",
      "\u001b[36m(square pid=5793, ip=10.0.162.180)\u001b[0m 2\n",
      "\u001b[36m(square pid=5795, ip=10.0.162.180)\u001b[0m 4\n",
      "\u001b[36m(square pid=5794, ip=10.0.162.180)\u001b[0m 5\n",
      "\u001b[36m(square pid=5793, ip=10.0.162.180)\u001b[0m 4\n",
      "\u001b[36m(square pid=5795, ip=10.0.162.180)\u001b[0m 2\n",
      "\u001b[36m(square pid=5794, ip=10.0.162.180)\u001b[0m 5\n",
      "\u001b[36m(square pid=5795, ip=10.0.162.180)\u001b[0m 4\n",
      "\u001b[36m(square pid=5794, ip=10.0.162.180)\u001b[0m 3\n",
      "\u001b[36m(square pid=5797, ip=10.0.162.180)\u001b[0m 5\n",
      "\u001b[36m(square pid=5795, ip=10.0.162.180)\u001b[0m 4\n",
      "\u001b[36m(square pid=5794, ip=10.0.162.180)\u001b[0m 5\n",
      "\u001b[36m(square pid=5797, ip=10.0.162.180)\u001b[0m 3\n",
      "\u001b[36m(square pid=5793, ip=10.0.162.180)\u001b[0m 5\n",
      "\u001b[36m(square pid=5793, ip=10.0.162.180)\u001b[0m 1\n",
      "\u001b[36m(square pid=5793, ip=10.0.162.180)\u001b[0m 2\n",
      "\u001b[36m(square pid=5182, ip=10.0.162.180)\u001b[0m 6\n",
      "\u001b[36m(square pid=5177, ip=10.0.162.180)\u001b[0m 5\n",
      "\u001b[36m(square pid=5528, ip=10.0.162.180)\u001b[0m 7\n",
      "\u001b[36m(square pid=5793, ip=10.0.162.180)\u001b[0m 0\n",
      "\u001b[36m(square pid=5793, ip=10.0.162.180)\u001b[0m 8\n",
      "\u001b[36m(square pid=5796, ip=10.0.162.180)\u001b[0m 4\n",
      "\u001b[36m(square pid=5795, ip=10.0.162.180)\u001b[0m 1\n",
      "\u001b[36m(square pid=5794, ip=10.0.162.180)\u001b[0m 2\n",
      "\u001b[36m(square pid=5794, ip=10.0.162.180)\u001b[0m 9\n",
      "\u001b[36m(square pid=5797, ip=10.0.162.180)\u001b[0m 3\n"
     ]
    }
   ],
   "source": [
    "#square.remote(3)\n",
    "square.remote(3)"
   ]
  },
  {
   "cell_type": "markdown",
   "id": "a8f99486-6a85-4331-bed6-0af871974977",
   "metadata": {},
   "source": [
    "`ObjectRef` is a handle to a task result. We get an ObjectRef immediately because we don't know\n",
    "* when the task will run\n",
    "* whether it will succeed\n",
    "* whether we really need or want the result locally\n",
    "    * consider a very large result which we may need for other work but which we don't need to inspect"
   ]
  },
  {
   "cell_type": "code",
   "execution_count": null,
   "id": "3c939071-2454-4042-8136-75ffbbf6cce0",
   "metadata": {
    "tags": []
   },
   "outputs": [],
   "source": [
    "ref = square.remote(3)"
   ]
  },
  {
   "cell_type": "markdown",
   "id": "7928ca98-dc51-4ecf-b757-92996dd0c69a",
   "metadata": {},
   "source": [
    "If we want to wait (block) and retrieve the corresponding object, we can use `ray.get`"
   ]
  },
  {
   "cell_type": "code",
   "execution_count": null,
   "id": "a564c830-d30d-4d4c-adb5-ee12adee605b",
   "metadata": {
    "tags": []
   },
   "outputs": [],
   "source": [
    "ray.get(ref)"
   ]
  },
  {
   "cell_type": "markdown",
   "id": "4da412f5-133a-441b-8734-b96f56389f05",
   "metadata": {},
   "source": [
    "<div class=\"alert alert-block alert-success\">\n",
    "    \n",
    "__Activity: define and invoke a Ray task__\n",
    "\n",
    "* Define a function that takes a two params, takes the square-root of the first, then adds the second and returns the result\n",
    "* Invoke it with 2 different sets of parameters and collect the results\n",
    "\n",
    "</div>"
   ]
  },
  {
   "cell_type": "markdown",
   "id": "effbdd51-ec87-4f2e-9d5f-79480c92a14c",
   "metadata": {},
   "source": [
    "### Scheduling multiple tasks"
   ]
  },
  {
   "cell_type": "code",
   "execution_count": 8,
   "id": "327830ae-da4e-4de9-96e3-0cc55df827f9",
   "metadata": {
    "tags": []
   },
   "outputs": [],
   "source": [
    "@ray.remote\n",
    "def spin():\n",
    "    total = 0\n",
    "    for i in range(1000):\n",
    "        for j in range(1000):\n",
    "            total += i*j\n",
    "    return total"
   ]
  },
  {
   "cell_type": "markdown",
   "id": "3d40508d-73b3-4ea9-8b9c-38408d7a0c55",
   "metadata": {},
   "source": [
    "If we want to run this task many times, we want to\n",
    "* invoke `.remote` for all invocations\n",
    "* *if we wish to `get` a result, invoke get on all of the ObjectRefs*"
   ]
  },
  {
   "cell_type": "code",
   "execution_count": 16,
   "id": "4387a9d0-7633-4fb2-81e3-8cf81c5a12fe",
   "metadata": {
    "tags": []
   },
   "outputs": [
    {
     "name": "stdout",
     "output_type": "stream",
     "text": [
      "CPU times: user 60.7 ms, sys: 12 ms, total: 72.7 ms\n",
      "Wall time: 207 ms\n"
     ]
    }
   ],
   "source": [
    "%%time\n",
    "\n",
    "out = ray.get([spin.remote() for _ in range(48)])"
   ]
  },
  {
   "cell_type": "markdown",
   "id": "c03e4922-d10a-44af-904c-f8a4a93eddef",
   "metadata": {},
   "source": [
    "__Don't__ call `remote` to schedule each task, then block with a `get` on its result prior to scheduling the next task because then Ray can't run your work in parallel\n",
    "\n",
    "i.e., don't do this:"
   ]
  },
  {
   "cell_type": "code",
   "execution_count": 17,
   "id": "bf3c66bb-5de2-4301-bdce-17c0edb2cd75",
   "metadata": {
    "tags": []
   },
   "outputs": [
    {
     "name": "stdout",
     "output_type": "stream",
     "text": [
      "CPU times: user 63.7 ms, sys: 6.02 ms, total: 69.7 ms\n",
      "Wall time: 1.94 s\n"
     ]
    }
   ],
   "source": [
    "%%time\n",
    "\n",
    "out = [ray.get(spin.remote()) for _ in range(48)]"
   ]
  },
  {
   "cell_type": "markdown",
   "id": "10ae0d0e-0e9e-4697-863d-f8aabcff54d4",
   "metadata": {},
   "source": [
    "### Task graphs\n",
    "\n",
    "The above example is a common scenario, but it is also the easiest (least complex) scheduling scenario. Each task is independent of the others -- this is called \"embarrassingly parallel\"\n",
    "\n",
    "Many real-world algorithms are not embarrassingly parallel: some tasks depend on results from one or more other tasks. Scheduling this graphs is more challenging.\n",
    "\n",
    "Ray Core is designed to make this straightforward"
   ]
  },
  {
   "cell_type": "code",
   "execution_count": 18,
   "id": "f9fa826a-3be0-4094-8f4d-52bd8e9c9475",
   "metadata": {
    "tags": []
   },
   "outputs": [],
   "source": [
    "@ray.remote\n",
    "def add(a, b):\n",
    "    return a+b"
   ]
  },
  {
   "cell_type": "code",
   "execution_count": 19,
   "id": "1df7dbfb-f287-4cf4-b7db-5566c90937c4",
   "metadata": {
    "tags": []
   },
   "outputs": [
    {
     "data": {
      "text/plain": [
       "ObjectRef(4e8873f2fe8b26caffffffffffffffffffffffff0400000001000000)"
      ]
     },
     "execution_count": 19,
     "metadata": {},
     "output_type": "execute_result"
    }
   ],
   "source": [
    "arg1 = square.remote(7)\n",
    "\n",
    "arg1"
   ]
  },
  {
   "cell_type": "code",
   "execution_count": 20,
   "id": "b9cc0d91-33ec-4ded-a558-611cdf74e633",
   "metadata": {
    "tags": []
   },
   "outputs": [],
   "source": [
    "arg2 = square.remote(11)"
   ]
  },
  {
   "cell_type": "markdown",
   "id": "aabc0016-c1c3-4f4c-83cc-3fbbe9fbe9f5",
   "metadata": {},
   "source": [
    "We want to schedule `add` which depends on two prior invocations of `square`\n",
    "\n",
    "We can pass the resulting ObjectRefs -- this means \n",
    "* we don't have to wait for the dependencies to complete before we can set up `add` for scheduling\n",
    "* we don't need to have the concrete parameters (Python objects) for the call to `add.remote`\n",
    "* Ray will automatically resolve the ObjectRefs -- our `add` implementation will never know that we passed ObjectRefs, not, e.g., numbers"
   ]
  },
  {
   "cell_type": "code",
   "execution_count": 24,
   "id": "bbc22b7e-2b95-4e33-aae4-3f54ad9675e3",
   "metadata": {
    "tags": []
   },
   "outputs": [],
   "source": [
    "out = add.remote(arg1, arg2)"
   ]
  },
  {
   "cell_type": "code",
   "execution_count": 25,
   "id": "b7b1316f-e72d-4f62-872d-49dfd0491d2c",
   "metadata": {
    "tags": []
   },
   "outputs": [
    {
     "data": {
      "text/plain": [
       "170"
      ]
     },
     "execution_count": 25,
     "metadata": {},
     "output_type": "execute_result"
    }
   ],
   "source": [
    "ray.get(out)"
   ]
  },
  {
   "cell_type": "markdown",
   "id": "69945376-d63b-4834-b677-ad831d008a38",
   "metadata": {},
   "source": [
    "If we happen to have concrete Python objects to pass -- instead of ObjectRefs -- we can use those. We can use any combination of objects and refs."
   ]
  },
  {
   "cell_type": "code",
   "execution_count": 26,
   "id": "41d6c412-0dad-44d1-b789-b6f6104caceb",
   "metadata": {
    "tags": []
   },
   "outputs": [
    {
     "data": {
      "text/plain": [
       "64"
      ]
     },
     "execution_count": 26,
     "metadata": {},
     "output_type": "execute_result"
    }
   ],
   "source": [
    "out2 = add.remote(arg1, 15)\n",
    "\n",
    "ray.get(out2)"
   ]
  },
  {
   "cell_type": "markdown",
   "id": "996e52ca-737b-4050-8a75-66666de9c93e",
   "metadata": {},
   "source": [
    "We can create more complex graphs by\n",
    "- writing our code in the usual way\n",
    "- decorating our functions with `@ray.remote`\n",
    "- using `.remote` when we need to call a function\n",
    "- using the resulting ObjectRefs and/or concrete values as parameters"
   ]
  },
  {
   "cell_type": "code",
   "execution_count": 36,
   "id": "f027965c-d460-4bea-93c7-5806544742f1",
   "metadata": {
    "editable": true,
    "slideshow": {
     "slide_type": ""
    },
    "tags": []
   },
   "outputs": [],
   "source": [
    "@ray.remote\n",
    "def mult(a,b):\n",
    "    return a*b"
   ]
  },
  {
   "cell_type": "markdown",
   "id": "ef80603c-04a5-4a3d-8ec4-ef7ac55ae48b",
   "metadata": {
    "editable": true,
    "slideshow": {
     "slide_type": ""
    },
    "tags": []
   },
   "source": [
    "Here, we call\n",
    "* Mult on the result of\n",
    "    * Square of 2 and\n",
    "    * the sum we get from calling Add on\n",
    "        * Square of 4 and\n",
    "        * Square of 5"
   ]
  },
  {
   "cell_type": "code",
   "execution_count": 37,
   "id": "55a98cc7-1611-42f1-b766-275fbf6177da",
   "metadata": {
    "editable": true,
    "slideshow": {
     "slide_type": ""
    },
    "tags": []
   },
   "outputs": [],
   "source": [
    "out3 = mult.remote(square.remote(2), add.remote(square.remote(4), square.remote(5)))"
   ]
  },
  {
   "cell_type": "code",
   "execution_count": 38,
   "id": "abb7af59-5a80-4020-9c18-298a2f0163f0",
   "metadata": {
    "editable": true,
    "slideshow": {
     "slide_type": ""
    },
    "tags": []
   },
   "outputs": [
    {
     "data": {
      "text/plain": [
       "164"
      ]
     },
     "execution_count": 38,
     "metadata": {},
     "output_type": "execute_result"
    }
   ],
   "source": [
    "ray.get(out3)"
   ]
  },
  {
   "cell_type": "markdown",
   "id": "54dd226f-40f2-4ea7-8190-ea69632d0ae4",
   "metadata": {
    "editable": true,
    "slideshow": {
     "slide_type": ""
    },
    "tags": []
   },
   "source": [
    "<div class=\"alert alert-block alert-success\">\n",
    "\n",
    "__Activity: task graph refactor__\n",
    "\n",
    "* Refactor the logic from your earlier Ray task (square-root and add) into two separate functions\n",
    "* Invoke the square-root-and-add logic with without ever locally retrieving the result of the square-root calculation\n",
    "\n",
    "</div>"
   ]
  },
  {
   "cell_type": "markdown",
   "id": "0f9fab1d-0f41-4175-a6cc-0161454d7718",
   "metadata": {
    "editable": true,
    "slideshow": {
     "slide_type": ""
    },
    "tags": []
   },
   "source": [
    "### Tasks can launch other tasks"
   ]
  },
  {
   "cell_type": "markdown",
   "id": "d131321a-7ac9-4a1e-8332-6c2808cde39b",
   "metadata": {
    "editable": true,
    "slideshow": {
     "slide_type": ""
    },
    "tags": []
   },
   "source": [
    "In that example, we organized or arranged the flow of tasks from our original process -- the Python kernel behind this notebook.\n",
    "\n",
    "Ray __does not__ require that all of your tasks and their dependencies by arranged from one \"driver\" process.\n",
    "\n",
    "Consider:"
   ]
  },
  {
   "cell_type": "code",
   "execution_count": 41,
   "id": "39da2976-fccb-41bd-9ccc-2c2e2ff3106a",
   "metadata": {
    "editable": true,
    "slideshow": {
     "slide_type": ""
    },
    "tags": []
   },
   "outputs": [],
   "source": [
    "@ray.remote\n",
    "def sum_of_squares(arr):\n",
    "    return 2,sum(ray.get([square.remote(val) for val in arr]))"
   ]
  },
  {
   "cell_type": "code",
   "execution_count": 42,
   "id": "f415fe45-c193-4fc0-8a2e-6bc8354d0145",
   "metadata": {
    "editable": true,
    "slideshow": {
     "slide_type": ""
    },
    "tags": []
   },
   "outputs": [
    {
     "data": {
      "text/plain": [
       "(2, 50)"
      ]
     },
     "execution_count": 42,
     "metadata": {},
     "output_type": "execute_result"
    }
   ],
   "source": [
    "ray.get(sum_of_squares.remote([3,4,5]))"
   ]
  },
  {
   "cell_type": "markdown",
   "id": "2840697c-f5d9-437b-8e67-72cfa69dbdb4",
   "metadata": {
    "editable": true,
    "slideshow": {
     "slide_type": ""
    },
    "tags": []
   },
   "source": [
    "In that example, \n",
    "* our (local) process asked Ray to schedule one task -- a call to `sum_of_squares` -- which that started running somewhere in our cluster;\n",
    "* within that task, additional code requested multiple additional tasks to be scheduled -- the call to `square` for each item in the list -- which were then scheduled in other locations;\n",
    "* and when those latter tasks were complete, the our original task computed the sum and completed.\n",
    "\n",
    "This ability for tasks to schedule other tasks using uniform semantics makes Ray particularly powerful and flexible."
   ]
  },
  {
   "cell_type": "markdown",
   "id": "0d03e83b-bc22-424d-9501-f8aacbca4c60",
   "metadata": {
    "editable": true,
    "slideshow": {
     "slide_type": ""
    },
    "tags": []
   },
   "source": [
    "## Ray Actors\n",
    "\n",
    "Actors are Python class instances which can run for a long time in the cluster, which can maintain state, and which can send messages to/from other code.\n",
    "\n",
    "In these examples, we'll show the full power of Ray actors where they can mutate state -- but it is worth noting that a common use of actors is with state that is not mutated but is large enough that we may want to create or load it only once and ensure we can route calls to it over time, such as a large AI model"
   ]
  },
  {
   "cell_type": "code",
   "execution_count": 50,
   "id": "ffaf1a08-d1de-43dd-ac04-5a1c43bcf943",
   "metadata": {},
   "outputs": [],
   "source": [
    "x = 100 "
   ]
  },
  {
   "cell_type": "code",
   "execution_count": 51,
   "id": "0500f797-7c77-4e68-a3d0-32c00544ee19",
   "metadata": {
    "editable": true,
    "slideshow": {
     "slide_type": ""
    },
    "tags": []
   },
   "outputs": [],
   "source": [
    "@ray.remote\n",
    "class Accounting:\n",
    "    def __init__(self):\n",
    "        self.total = 0\n",
    "    \n",
    "    def add(self, amount):\n",
    "        self.total += amount + x\n",
    "        \n",
    "    def remove(self, amount):\n",
    "        self.total -= amount\n",
    "        \n",
    "    def total(self):\n",
    "        return self.total"
   ]
  },
  {
   "cell_type": "markdown",
   "id": "9ad7a2da-0411-4e77-a371-3583a21c949e",
   "metadata": {
    "editable": true,
    "slideshow": {
     "slide_type": ""
    },
    "tags": []
   },
   "source": [
    "Define an actor with the `@ray.remote` decorator and then use `<class_name>.remote()` ask Ray to construct and instance of this actor somewhere in the cluster.\n",
    "\n",
    "We get an actor handle which we can use to communicate with that actor, pass to other code, tasks, or actors, etc."
   ]
  },
  {
   "cell_type": "code",
   "execution_count": 52,
   "id": "4d9b1c79-fc12-4f59-8567-a04c4f11f379",
   "metadata": {
    "editable": true,
    "slideshow": {
     "slide_type": ""
    },
    "tags": []
   },
   "outputs": [],
   "source": [
    "acc = Accounting.remote()"
   ]
  },
  {
   "cell_type": "code",
   "execution_count": 53,
   "id": "eed9ca54-9250-47fe-a596-673e06a75253",
   "metadata": {
    "editable": true,
    "slideshow": {
     "slide_type": ""
    },
    "tags": []
   },
   "outputs": [
    {
     "data": {
      "text/plain": [
       "Actor(Accounting, 0f2c6f499e7a7e25277c63b304000000)"
      ]
     },
     "execution_count": 53,
     "metadata": {},
     "output_type": "execute_result"
    }
   ],
   "source": [
    "acc"
   ]
  },
  {
   "cell_type": "markdown",
   "id": "8bd54012-0d2e-4f15-a07d-5b36f3ade524",
   "metadata": {
    "editable": true,
    "slideshow": {
     "slide_type": ""
    },
    "tags": []
   },
   "source": [
    "We can send a message to an actor -- with RPC semantics -- by using `<handle>.<method_name>.remote()`"
   ]
  },
  {
   "cell_type": "code",
   "execution_count": 54,
   "id": "b932c862-980f-440e-8e57-74cbc556bf4d",
   "metadata": {
    "editable": true,
    "slideshow": {
     "slide_type": ""
    },
    "tags": []
   },
   "outputs": [
    {
     "data": {
      "text/plain": [
       "ObjectRef(0ef82bf3334edf090f2c6f499e7a7e25277c63b30400000001000000)"
      ]
     },
     "execution_count": 54,
     "metadata": {},
     "output_type": "execute_result"
    }
   ],
   "source": [
    "acc.total.remote()"
   ]
  },
  {
   "cell_type": "markdown",
   "id": "325f56af-a8d1-482e-962c-2904bb757440",
   "metadata": {
    "editable": true,
    "slideshow": {
     "slide_type": ""
    },
    "tags": []
   },
   "source": [
    "Not surprisingly, we get an object ref back"
   ]
  },
  {
   "cell_type": "code",
   "execution_count": 55,
   "id": "4213d804-0e3b-4ed1-a0b2-41681d375456",
   "metadata": {
    "tags": []
   },
   "outputs": [
    {
     "data": {
      "text/plain": [
       "0"
      ]
     },
     "execution_count": 55,
     "metadata": {},
     "output_type": "execute_result"
    }
   ],
   "source": [
    "ray.get(acc.total.remote())"
   ]
  },
  {
   "cell_type": "markdown",
   "id": "775651a3-09c7-4992-80ed-b793e9a78f96",
   "metadata": {},
   "source": [
    "We can mutate the state inside this actor instance"
   ]
  },
  {
   "cell_type": "code",
   "execution_count": 56,
   "id": "6a685a15-3844-4a9e-a243-8befe6b8c4fe",
   "metadata": {
    "tags": []
   },
   "outputs": [
    {
     "data": {
      "text/plain": [
       "ObjectRef(6586da9349a9e04c0f2c6f499e7a7e25277c63b30400000001000000)"
      ]
     },
     "execution_count": 56,
     "metadata": {},
     "output_type": "execute_result"
    }
   ],
   "source": [
    "acc.add.remote(100)"
   ]
  },
  {
   "cell_type": "code",
   "execution_count": 62,
   "id": "5d4409db-09ac-424f-b758-476618d1f624",
   "metadata": {
    "scrolled": true
   },
   "outputs": [
    {
     "data": {
      "text/plain": [
       "[ObjectRef(c8dfef82d8e9b2150f2c6f499e7a7e25277c63b30400000001000000),\n",
       " ObjectRef(05abfdb08c5429c30f2c6f499e7a7e25277c63b30400000001000000),\n",
       " ObjectRef(66228ac107f2fbfb0f2c6f499e7a7e25277c63b30400000001000000),\n",
       " ObjectRef(a1098043f13f761c0f2c6f499e7a7e25277c63b30400000001000000),\n",
       " ObjectRef(507d62a3932f5eb00f2c6f499e7a7e25277c63b30400000001000000),\n",
       " ObjectRef(6272834341f30a4e0f2c6f499e7a7e25277c63b30400000001000000),\n",
       " ObjectRef(4d276113c16b1baa0f2c6f499e7a7e25277c63b30400000001000000),\n",
       " ObjectRef(605962cb48074d6d0f2c6f499e7a7e25277c63b30400000001000000),\n",
       " ObjectRef(8ad83ac1cc7806030f2c6f499e7a7e25277c63b30400000001000000),\n",
       " ObjectRef(696a6ded780fe9a70f2c6f499e7a7e25277c63b30400000001000000),\n",
       " ObjectRef(b15013664b0e9e1b0f2c6f499e7a7e25277c63b30400000001000000),\n",
       " ObjectRef(b60699fbd93b1c530f2c6f499e7a7e25277c63b30400000001000000),\n",
       " ObjectRef(1488bd5cb06effb90f2c6f499e7a7e25277c63b30400000001000000),\n",
       " ObjectRef(e8986543e6f384bb0f2c6f499e7a7e25277c63b30400000001000000),\n",
       " ObjectRef(9a37ec0682a7f1cc0f2c6f499e7a7e25277c63b30400000001000000),\n",
       " ObjectRef(9638c51346ba105c0f2c6f499e7a7e25277c63b30400000001000000),\n",
       " ObjectRef(578c246b38c3945e0f2c6f499e7a7e25277c63b30400000001000000),\n",
       " ObjectRef(53fa2364fa612f780f2c6f499e7a7e25277c63b30400000001000000),\n",
       " ObjectRef(1cc5cc1b38da0e0a0f2c6f499e7a7e25277c63b30400000001000000),\n",
       " ObjectRef(3ea3a346403bedc80f2c6f499e7a7e25277c63b30400000001000000),\n",
       " ObjectRef(84e41c09c9ee44380f2c6f499e7a7e25277c63b30400000001000000),\n",
       " ObjectRef(132e4ae752c76a000f2c6f499e7a7e25277c63b30400000001000000),\n",
       " ObjectRef(2c5e6f4f945f78e00f2c6f499e7a7e25277c63b30400000001000000),\n",
       " ObjectRef(080e520c0dc87b940f2c6f499e7a7e25277c63b30400000001000000),\n",
       " ObjectRef(8b4bac79ea1165e30f2c6f499e7a7e25277c63b30400000001000000),\n",
       " ObjectRef(23ee8c60a5187ea10f2c6f499e7a7e25277c63b30400000001000000),\n",
       " ObjectRef(b81a373c08a452f60f2c6f499e7a7e25277c63b30400000001000000),\n",
       " ObjectRef(f2d1f3fa0e6faac50f2c6f499e7a7e25277c63b30400000001000000),\n",
       " ObjectRef(1a96a54c8d3c1b660f2c6f499e7a7e25277c63b30400000001000000),\n",
       " ObjectRef(bb815d62ad4a3d5f0f2c6f499e7a7e25277c63b30400000001000000),\n",
       " ObjectRef(c5f705daae501c7c0f2c6f499e7a7e25277c63b30400000001000000),\n",
       " ObjectRef(f6a63f3a926cf4200f2c6f499e7a7e25277c63b30400000001000000),\n",
       " ObjectRef(0ec5bad8d76e9e140f2c6f499e7a7e25277c63b30400000001000000),\n",
       " ObjectRef(19d64af17f3435da0f2c6f499e7a7e25277c63b30400000001000000),\n",
       " ObjectRef(ea13f27f38558c6e0f2c6f499e7a7e25277c63b30400000001000000),\n",
       " ObjectRef(ba345135efb640580f2c6f499e7a7e25277c63b30400000001000000),\n",
       " ObjectRef(8ca10a8f31ad75320f2c6f499e7a7e25277c63b30400000001000000),\n",
       " ObjectRef(c88a8635a11595e80f2c6f499e7a7e25277c63b30400000001000000),\n",
       " ObjectRef(cecc0ecc462ae9820f2c6f499e7a7e25277c63b30400000001000000),\n",
       " ObjectRef(e055a990e44b6d250f2c6f499e7a7e25277c63b30400000001000000),\n",
       " ObjectRef(07432fb07df240b70f2c6f499e7a7e25277c63b30400000001000000),\n",
       " ObjectRef(0675fbd2d780d0dc0f2c6f499e7a7e25277c63b30400000001000000),\n",
       " ObjectRef(be05c111c1b033c70f2c6f499e7a7e25277c63b30400000001000000),\n",
       " ObjectRef(690613bb4332f8610f2c6f499e7a7e25277c63b30400000001000000),\n",
       " ObjectRef(b52a99b7740a356f0f2c6f499e7a7e25277c63b30400000001000000),\n",
       " ObjectRef(43cc4ab91b6256640f2c6f499e7a7e25277c63b30400000001000000),\n",
       " ObjectRef(60211f0320b9cd9a0f2c6f499e7a7e25277c63b30400000001000000),\n",
       " ObjectRef(3fdf6c053f62681e0f2c6f499e7a7e25277c63b30400000001000000),\n",
       " ObjectRef(21e3d68b76a275550f2c6f499e7a7e25277c63b30400000001000000),\n",
       " ObjectRef(81c315cd99e84f480f2c6f499e7a7e25277c63b30400000001000000),\n",
       " ObjectRef(9fe580cbd89efca80f2c6f499e7a7e25277c63b30400000001000000),\n",
       " ObjectRef(7261b9dfec881a6d0f2c6f499e7a7e25277c63b30400000001000000),\n",
       " ObjectRef(9e0787cac093579b0f2c6f499e7a7e25277c63b30400000001000000),\n",
       " ObjectRef(f4d860cc610bb05b0f2c6f499e7a7e25277c63b30400000001000000),\n",
       " ObjectRef(47535a69b27d294c0f2c6f499e7a7e25277c63b30400000001000000),\n",
       " ObjectRef(88aa43b3e82fda860f2c6f499e7a7e25277c63b30400000001000000),\n",
       " ObjectRef(e772dfc7af89c0330f2c6f499e7a7e25277c63b30400000001000000),\n",
       " ObjectRef(b59dc0ae6083cf790f2c6f499e7a7e25277c63b30400000001000000),\n",
       " ObjectRef(3be35a1ccf78f5cb0f2c6f499e7a7e25277c63b30400000001000000),\n",
       " ObjectRef(c88fb3996db1eb730f2c6f499e7a7e25277c63b30400000001000000),\n",
       " ObjectRef(8d049220785db2f40f2c6f499e7a7e25277c63b30400000001000000),\n",
       " ObjectRef(4c3141a31c3870fd0f2c6f499e7a7e25277c63b30400000001000000),\n",
       " ObjectRef(0918ed4fd3497eb00f2c6f499e7a7e25277c63b30400000001000000),\n",
       " ObjectRef(bae85d513ab4c0650f2c6f499e7a7e25277c63b30400000001000000),\n",
       " ObjectRef(fc1b12f317a92d010f2c6f499e7a7e25277c63b30400000001000000),\n",
       " ObjectRef(914ac38fe9ec58190f2c6f499e7a7e25277c63b30400000001000000),\n",
       " ObjectRef(6edd08a6f703d3b00f2c6f499e7a7e25277c63b30400000001000000),\n",
       " ObjectRef(f89675620da4bcd10f2c6f499e7a7e25277c63b30400000001000000),\n",
       " ObjectRef(0604b950b63260680f2c6f499e7a7e25277c63b30400000001000000),\n",
       " ObjectRef(3c82a71672ba378e0f2c6f499e7a7e25277c63b30400000001000000),\n",
       " ObjectRef(bb801cd4b32401fe0f2c6f499e7a7e25277c63b30400000001000000),\n",
       " ObjectRef(f65d9b4801d78fc40f2c6f499e7a7e25277c63b30400000001000000),\n",
       " ObjectRef(5ede5b4de947983e0f2c6f499e7a7e25277c63b30400000001000000),\n",
       " ObjectRef(43115001aed281580f2c6f499e7a7e25277c63b30400000001000000),\n",
       " ObjectRef(575c43bd9e03df320f2c6f499e7a7e25277c63b30400000001000000),\n",
       " ObjectRef(6b88f23e4f8376750f2c6f499e7a7e25277c63b30400000001000000),\n",
       " ObjectRef(9ad225fcd2e60c3d0f2c6f499e7a7e25277c63b30400000001000000),\n",
       " ObjectRef(5f27eef47918e3ff0f2c6f499e7a7e25277c63b30400000001000000),\n",
       " ObjectRef(96207407cc132d520f2c6f499e7a7e25277c63b30400000001000000),\n",
       " ObjectRef(b491b989e584c0ab0f2c6f499e7a7e25277c63b30400000001000000),\n",
       " ObjectRef(dff9c349d26c78e60f2c6f499e7a7e25277c63b30400000001000000),\n",
       " ObjectRef(8f06ea925feac58c0f2c6f499e7a7e25277c63b30400000001000000),\n",
       " ObjectRef(12f5434fe9274e900f2c6f499e7a7e25277c63b30400000001000000),\n",
       " ObjectRef(ee331d96bd82e1140f2c6f499e7a7e25277c63b30400000001000000),\n",
       " ObjectRef(5c3b160a2c22fc220f2c6f499e7a7e25277c63b30400000001000000),\n",
       " ObjectRef(36462e77f85826320f2c6f499e7a7e25277c63b30400000001000000),\n",
       " ObjectRef(0e620ad83ea773350f2c6f499e7a7e25277c63b30400000001000000),\n",
       " ObjectRef(131aa364a5f8ec9f0f2c6f499e7a7e25277c63b30400000001000000),\n",
       " ObjectRef(59e6dd69658677670f2c6f499e7a7e25277c63b30400000001000000),\n",
       " ObjectRef(6cd24c49231940960f2c6f499e7a7e25277c63b30400000001000000),\n",
       " ObjectRef(48233ea2eae1721b0f2c6f499e7a7e25277c63b30400000001000000),\n",
       " ObjectRef(d22f2d48d2191e2d0f2c6f499e7a7e25277c63b30400000001000000),\n",
       " ObjectRef(05e59f69580ebec30f2c6f499e7a7e25277c63b30400000001000000),\n",
       " ObjectRef(1728b76e9d6e9bd10f2c6f499e7a7e25277c63b30400000001000000),\n",
       " ObjectRef(c50dce382b310df70f2c6f499e7a7e25277c63b30400000001000000),\n",
       " ObjectRef(3abe88d25de8240b0f2c6f499e7a7e25277c63b30400000001000000),\n",
       " ObjectRef(fbcf89a2ed6c53ad0f2c6f499e7a7e25277c63b30400000001000000),\n",
       " ObjectRef(a57ea1d8e0c584290f2c6f499e7a7e25277c63b30400000001000000),\n",
       " ObjectRef(cef95a765b5ea0930f2c6f499e7a7e25277c63b30400000001000000)]"
      ]
     },
     "execution_count": 62,
     "metadata": {},
     "output_type": "execute_result"
    }
   ],
   "source": [
    "[acc.add.remote(x) for x in range(1,100)]"
   ]
  },
  {
   "cell_type": "code",
   "execution_count": 60,
   "id": "642b27e1-7dd8-4ef7-8ebb-f0c4ec856427",
   "metadata": {
    "tags": []
   },
   "outputs": [
    {
     "data": {
      "text/plain": [
       "ObjectRef(1b797561c6739b030f2c6f499e7a7e25277c63b30400000001000000)"
      ]
     },
     "execution_count": 60,
     "metadata": {},
     "output_type": "execute_result"
    }
   ],
   "source": [
    "acc.remove.remote(10)"
   ]
  },
  {
   "cell_type": "code",
   "execution_count": 63,
   "id": "ad395cf9-b7f9-4dde-be12-b511de52c7fe",
   "metadata": {
    "tags": []
   },
   "outputs": [
    {
     "data": {
      "text/plain": [
       "29880"
      ]
     },
     "execution_count": 63,
     "metadata": {},
     "output_type": "execute_result"
    }
   ],
   "source": [
    "ray.get(acc.total.remote())"
   ]
  },
  {
   "cell_type": "markdown",
   "id": "1d59a163-e93e-4348-860c-fcbc0be8018b",
   "metadata": {},
   "source": [
    "<div class=\"alert alert-block alert-success\">\n",
    "\n",
    "__Activity: linear model inference__\n",
    "\n",
    "* Create an actor which applies a model to convert Celsius temperatures to Fahrenheit\n",
    "* The constructor should take model weights (w1 and w0) and store them as instance state\n",
    "* A convert method should take a scalar, multiply it by w1 then add w0 (weights retrieved from instance state) and then return the result\n",
    "\n",
    "Bonus activity:\n",
    "* Instead of passing weights as constructor params, pass a filepath to the constructor. In the constructor, retrieve the weights from the path.\n",
    "\n",
    "</div>"
   ]
  },
  {
   "cell_type": "markdown",
   "id": "e07a0efb-9fb4-46d6-84a1-c6dca88819e4",
   "metadata": {},
   "source": [
    "And an actor can itself run remote tasks"
   ]
  },
  {
   "cell_type": "code",
   "execution_count": 65,
   "id": "7d913914-f638-41dd-a07a-df1656761f12",
   "metadata": {
    "tags": []
   },
   "outputs": [],
   "source": [
    "@ray.remote\n",
    "class EnhancedAccounting:\n",
    "    def __init__(self):\n",
    "        self.total = 0\n",
    "    \n",
    "    def add(self, amount):\n",
    "        self.total += amount\n",
    "        \n",
    "    def remove(self, amount):\n",
    "        self.total -= amount\n",
    "        \n",
    "    def total(self):\n",
    "        return self.total\n",
    "    \n",
    "    def add_a_bunch(self, amount):\n",
    "        bigger_amount = square.remote(amount)\n",
    "        self.total += ray.get(bigger_amount)"
   ]
  },
  {
   "cell_type": "code",
   "execution_count": 66,
   "id": "a5e59cf3-b55e-487a-af35-0d3f599a6f81",
   "metadata": {
    "tags": []
   },
   "outputs": [
    {
     "data": {
      "text/plain": [
       "ObjectRef(7bd7587a5f7d2e3b92a888251e5befd9751436dd0400000001000000)"
      ]
     },
     "execution_count": 66,
     "metadata": {},
     "output_type": "execute_result"
    }
   ],
   "source": [
    "acc = EnhancedAccounting.remote()\n",
    "acc.add.remote(100)\n",
    "acc.add_a_bunch.remote(5)"
   ]
  },
  {
   "cell_type": "code",
   "execution_count": 67,
   "id": "b2296434-0c89-435a-8baa-a61ad5ec25d1",
   "metadata": {
    "tags": []
   },
   "outputs": [
    {
     "data": {
      "text/plain": [
       "125"
      ]
     },
     "execution_count": 67,
     "metadata": {},
     "output_type": "execute_result"
    }
   ],
   "source": [
    "ray.get(acc.total.remote())"
   ]
  },
  {
   "cell_type": "markdown",
   "id": "c04efe68-fe02-44ab-86c2-342e487c48dc",
   "metadata": {},
   "source": [
    "An actor can also instantiate and use other actors"
   ]
  },
  {
   "cell_type": "code",
   "execution_count": 68,
   "id": "202f9f2a-009f-4807-9ec0-4e4e3375653d",
   "metadata": {
    "tags": []
   },
   "outputs": [],
   "source": [
    "@ray.remote\n",
    "class TaxAccounting:\n",
    "    def __init__(self):\n",
    "        self.total = 0\n",
    "        self.tax_account = Accounting.remote()\n",
    "    \n",
    "    def add(self, amount):\n",
    "        self.total += amount/2\n",
    "        self.tax_account.add.remote(amount/2)\n",
    "        \n",
    "    def remove(self, amount):\n",
    "        self.total -= amount\n",
    "        self.tax_account.remove.remote(amount/2)\n",
    "        \n",
    "    def total(self):\n",
    "        tax_total = ray.get(self.tax_account.total.remote())\n",
    "        return (self.total, tax_total)"
   ]
  },
  {
   "cell_type": "code",
   "execution_count": 69,
   "id": "f682efde-8b9b-4b5f-812f-4808c6bcf64b",
   "metadata": {
    "tags": []
   },
   "outputs": [
    {
     "data": {
      "text/plain": [
       "ObjectRef(fee024a1e199be18cdd44759cfddb01c135f2fe50400000001000000)"
      ]
     },
     "execution_count": 69,
     "metadata": {},
     "output_type": "execute_result"
    }
   ],
   "source": [
    "acc = TaxAccounting.remote()\n",
    "acc.add.remote(100)\n",
    "acc.remove.remote(5)"
   ]
  },
  {
   "cell_type": "code",
   "execution_count": 71,
   "id": "d2350e1e-33ff-412f-8dd6-4c59805395fb",
   "metadata": {
    "tags": []
   },
   "outputs": [
    {
     "data": {
      "text/plain": [
       "(45.0, 147.5)"
      ]
     },
     "execution_count": 71,
     "metadata": {},
     "output_type": "execute_result"
    }
   ],
   "source": [
    "ray.get(acc.total.remote())"
   ]
  },
  {
   "cell_type": "markdown",
   "id": "5a089a83-266a-4863-9ed8-d0ff570b8011",
   "metadata": {},
   "source": [
    "And this works regardless of which process creates the various actors.\n",
    "\n",
    "That is, above the `TaxAccounting` actor created an `Accounting` actor as a helper."
   ]
  },
  {
   "cell_type": "markdown",
   "id": "c3c8f5de-c913-4c2a-aebd-ec249602f7b7",
   "metadata": {},
   "source": [
    "## `ray.put`"
   ]
  },
  {
   "cell_type": "markdown",
   "id": "eb5247c0-f083-4275-b14d-b3515d929615",
   "metadata": {},
   "source": [
    "As we've seen the results of tasks are in the Ray object store and the caller gets an object ref which can be used for many purposed. If the caller needs the actual object -- e.g., to implement from conditional logic based on the value -- it can use `ray.get`\n",
    "\n",
    "In some cases, we may have a large object locally which we want to use in many Ray tasks.\n",
    "\n",
    "The best practice for this is to put the object into the object store (once) to obtain an object ref which we can then use many times.\n",
    "\n",
    "For example:"
   ]
  },
  {
   "cell_type": "code",
   "execution_count": 72,
   "id": "5fc2ad2c-f464-4ccf-bc65-f76269e503e3",
   "metadata": {
    "tags": []
   },
   "outputs": [],
   "source": [
    "@ray.remote\n",
    "def append(base, appendix):\n",
    "    return base + \" - \" + appendix"
   ]
  },
  {
   "cell_type": "code",
   "execution_count": 73,
   "id": "301adc4a-f492-4206-922a-d4566c5a80e2",
   "metadata": {
    "tags": []
   },
   "outputs": [
    {
     "data": {
      "text/plain": [
       "'foo - bar'"
      ]
     },
     "execution_count": 73,
     "metadata": {},
     "output_type": "execute_result"
    }
   ],
   "source": [
    "ray.get(append.remote(\"foo\", \"bar\"))"
   ]
  },
  {
   "cell_type": "markdown",
   "id": "e4cdf3f9-c9e5-4a2b-b154-0653d2deb806",
   "metadata": {},
   "source": [
    "Now let's pretend that the `base` doc is some very large document"
   ]
  },
  {
   "cell_type": "code",
   "execution_count": 74,
   "id": "fdeab370-e3f7-4c46-b10d-a4520f179a81",
   "metadata": {
    "tags": []
   },
   "outputs": [],
   "source": [
    "long_doc = \"\"\"It was the best of times, it was the worst of times, \n",
    "it was the age of wisdom, it was the age of foolishness, it was the epoch of belief, it was the epoch of incredulity, \n",
    "it was the season of Light, it was the season of Darkness, it was the spring of hope, it was the winter of despair, \n",
    "we had everything before us, we had nothing before us, we were all going direct to Heaven, we were all going direct the other way\n",
    "--in short, the period was so far like the present period that some of its noisiest authorities insisted on its being received, \n",
    "for good or for evil, in the superlative degree of comparison only.\"\"\""
   ]
  },
  {
   "cell_type": "markdown",
   "id": "b47011ea-18cb-4d33-ad7b-970a2ccd1c85",
   "metadata": {},
   "source": [
    "We call `ray.put` to obtain a ref that we can use multiple times"
   ]
  },
  {
   "cell_type": "code",
   "execution_count": 75,
   "id": "eabfe5ef-bb3d-4c63-b524-91560416fe72",
   "metadata": {
    "tags": []
   },
   "outputs": [
    {
     "data": {
      "text/plain": [
       "ObjectRef(00ffffffffffffffffffffffffffffffffffffff0400000001e1f505)"
      ]
     },
     "execution_count": 75,
     "metadata": {},
     "output_type": "execute_result"
    }
   ],
   "source": [
    "doc_ref = ray.put(long_doc)\n",
    "doc_ref"
   ]
  },
  {
   "cell_type": "code",
   "execution_count": 76,
   "id": "c73bb14e-16f3-482e-8897-eb603aef68db",
   "metadata": {
    "tags": []
   },
   "outputs": [
    {
     "data": {
      "text/plain": [
       "ObjectRef(bee0390cc952dc9cffffffffffffffffffffffff0400000001000000)"
      ]
     },
     "execution_count": 76,
     "metadata": {},
     "output_type": "execute_result"
    }
   ],
   "source": [
    "append.remote(doc_ref, \" (Charles Dickens)\")"
   ]
  },
  {
   "cell_type": "code",
   "execution_count": 77,
   "id": "7b3947e0-ac90-4b0b-a193-493b2aaa2a0f",
   "metadata": {
    "tags": []
   },
   "outputs": [
    {
     "data": {
      "text/plain": [
       "ObjectRef(5b0c3d6b379ea472ffffffffffffffffffffffff0400000001000000)"
      ]
     },
     "execution_count": 77,
     "metadata": {},
     "output_type": "execute_result"
    }
   ],
   "source": [
    "append.remote(doc_ref, \" (Dickens 1859)\")"
   ]
  },
  {
   "cell_type": "code",
   "execution_count": 78,
   "id": "dc1ae098-de4c-49f8-8f29-370462ad12c1",
   "metadata": {
    "tags": []
   },
   "outputs": [
    {
     "data": {
      "text/plain": [
       "'It was the best of times, it was the worst of times, \\nit was the age of wisdom, it was the age of foolishness, it was the epoch of belief, it was the epoch of incredulity, \\nit was the season of Light, it was the season of Darkness, it was the spring of hope, it was the winter of despair, \\nwe had everything before us, we had nothing before us, we were all going direct to Heaven, we were all going direct the other way\\n--in short, the period was so far like the present period that some of its noisiest authorities insisted on its being received, \\nfor good or for evil, in the superlative degree of comparison only. - (A Tale of Two Cities)'"
      ]
     },
     "execution_count": 78,
     "metadata": {},
     "output_type": "execute_result"
    }
   ],
   "source": [
    "ray.get(append.remote(doc_ref, '(A Tale of Two Cities)'))"
   ]
  },
  {
   "cell_type": "markdown",
   "id": "c397ada1-b3b5-4198-825a-220422fc7744",
   "metadata": {},
   "source": [
    "__Note: if we passed the Python object handle -- or even implicitly used a handle that is in our current scope chain -- the code would succeed, but performance might suffer__\n",
    "\n",
    "E.g., this will work, but usually should be avoided when the object is large and/or used many times:"
   ]
  },
  {
   "cell_type": "code",
   "execution_count": 79,
   "id": "684e6f98-945a-43ea-8bca-776ffa0eae04",
   "metadata": {
    "tags": []
   },
   "outputs": [
    {
     "data": {
      "text/plain": [
       "ObjectRef(e12b8cc4954b5b50ffffffffffffffffffffffff0400000001000000)"
      ]
     },
     "execution_count": 79,
     "metadata": {},
     "output_type": "execute_result"
    }
   ],
   "source": [
    "append.remote(long_doc, \" (Dickens)\")"
   ]
  },
  {
   "cell_type": "markdown",
   "id": "33e7d7f4-6ae4-478c-8141-8f17b246d67d",
   "metadata": {},
   "source": [
    "this will also work ... but should also be avoided when the scope-chain object is large and/or used many times:"
   ]
  },
  {
   "cell_type": "code",
   "execution_count": 80,
   "id": "0bcd320b-94db-4714-a0a8-c8e458c33e19",
   "metadata": {
    "tags": []
   },
   "outputs": [],
   "source": [
    "@ray.remote\n",
    "def append_to_doc(appendix):\n",
    "    return long_doc + \" - \" + appendix"
   ]
  },
  {
   "cell_type": "code",
   "execution_count": 81,
   "id": "c23e5ddd-747b-4b4b-b4a0-710266309efd",
   "metadata": {
    "tags": []
   },
   "outputs": [
    {
     "data": {
      "text/plain": [
       "ObjectRef(7b1f4cda30812bdaffffffffffffffffffffffff0400000001000000)"
      ]
     },
     "execution_count": 81,
     "metadata": {},
     "output_type": "execute_result"
    }
   ],
   "source": [
    "append_to_doc.remote('foo')"
   ]
  },
  {
   "cell_type": "markdown",
   "id": "92115e9a-dcb9-4760-816f-7497c25fb9b7",
   "metadata": {},
   "source": [
    "<div class=\"alert alert-block alert-success\">\n",
    "\n",
    "__Activity: object store and performance experiment__\n",
    "\n",
    "* Create a Ray task which uses NumPy to multiply a (square 2-D) array by itself and returns the sum of the resulting array\n",
    "* Starting with a small array (10x10), see how large the array must be before we can see a difference between\n",
    "    * Using `ray.put` to place the array in the object store first, then supplying a reference to the Ray task\n",
    "    * Passing a handle to the array itself as the parameter to the task\n",
    "\n",
    "</div>"
   ]
  },
  {
   "cell_type": "markdown",
   "id": "83c48fdf-7664-46c7-bb91-5a8b14f0f920",
   "metadata": {},
   "source": [
    "## Tracking the state of tasks\n",
    "\n",
    "If we just want to inspect the state of a task that may or may not have successfully completed, we can call `.future()` to convert into a future as defined in `concurrent.futures` (Python 3.6+)"
   ]
  },
  {
   "cell_type": "code",
   "execution_count": 82,
   "id": "be424dcc-7919-4fa5-94de-73e7028ec7b5",
   "metadata": {
    "tags": []
   },
   "outputs": [
    {
     "data": {
      "text/plain": [
       "False"
      ]
     },
     "execution_count": 82,
     "metadata": {},
     "output_type": "execute_result"
    }
   ],
   "source": [
    "s1 = square.remote(1)\n",
    "\n",
    "f = s1.future()\n",
    "\n",
    "f.done()"
   ]
  },
  {
   "cell_type": "markdown",
   "id": "19277999-63fa-4bdd-a738-e6b17dc4fae5",
   "metadata": {},
   "source": [
    "By now it should be done"
   ]
  },
  {
   "cell_type": "code",
   "execution_count": 83,
   "id": "5995cce4-71e0-4031-b0f5-70e85b75c240",
   "metadata": {
    "tags": []
   },
   "outputs": [
    {
     "data": {
      "text/plain": [
       "True"
      ]
     },
     "execution_count": 83,
     "metadata": {},
     "output_type": "execute_result"
    }
   ],
   "source": [
    "f.done()"
   ]
  },
  {
   "cell_type": "code",
   "execution_count": 84,
   "id": "cc5ee2a9-8315-4e34-a0e2-2f74c7774639",
   "metadata": {
    "tags": []
   },
   "outputs": [
    {
     "data": {
      "text/plain": [
       "1"
      ]
     },
     "execution_count": 84,
     "metadata": {},
     "output_type": "execute_result"
    }
   ],
   "source": [
    "f.result()"
   ]
  },
  {
   "cell_type": "code",
   "execution_count": 85,
   "id": "fd96d83d-18df-4ed6-8165-65caabf875f2",
   "metadata": {
    "tags": []
   },
   "outputs": [
    {
     "data": {
      "text/plain": [
       "concurrent.futures._base.Future"
      ]
     },
     "execution_count": 85,
     "metadata": {},
     "output_type": "execute_result"
    }
   ],
   "source": [
    "type(f)"
   ]
  },
  {
   "cell_type": "markdown",
   "id": "05459d0e-1719-4a3e-bf0a-72042517fbcc",
   "metadata": {},
   "source": [
    "### Access to tasks as they are completed\n",
    "\n",
    "We may submit a number of tasks and want to access their results -- perhaps to start additional computations -- as they complete.\n",
    "\n",
    "That is, we don't want to wait for all of our initial tasks to finish, but we may need to wait for one or more to be done.\n",
    "\n",
    "`ray.wait` blocks until 1 or more of the submitted object refs are complete and then returns a tuple or done and not-done refs"
   ]
  },
  {
   "cell_type": "code",
   "execution_count": 86,
   "id": "9f985cbf-6b87-4d02-96e1-a116ab80e7de",
   "metadata": {
    "tags": []
   },
   "outputs": [
    {
     "data": {
      "text/plain": [
       "[ObjectRef(6a5ca305caf3f443ffffffffffffffffffffffff0400000001000000)]"
      ]
     },
     "execution_count": 86,
     "metadata": {},
     "output_type": "execute_result"
    }
   ],
   "source": [
    "s2 = square.remote(2)\n",
    "done, not_done = ray.wait([s1, s2])\n",
    "\n",
    "done"
   ]
  },
  {
   "cell_type": "code",
   "execution_count": 87,
   "id": "9088c8f7-1100-49a9-911f-cc658e9b5518",
   "metadata": {
    "tags": []
   },
   "outputs": [
    {
     "data": {
      "text/plain": [
       "[ObjectRef(de3c08115f3e5a1affffffffffffffffffffffff0400000001000000)]"
      ]
     },
     "execution_count": 87,
     "metadata": {},
     "output_type": "execute_result"
    }
   ],
   "source": [
    "not_done"
   ]
  },
  {
   "cell_type": "markdown",
   "id": "a2a6359c-e6e9-4b68-b56d-3cc3b1ca107f",
   "metadata": {
    "tags": []
   },
   "source": [
    "If we need to wait for more than one task to complete, we can specify that with the `num_returns` parameter"
   ]
  },
  {
   "cell_type": "code",
   "execution_count": 88,
   "id": "f45ae77a-b96b-46a4-9ffc-53c82d3500e7",
   "metadata": {
    "tags": []
   },
   "outputs": [
    {
     "data": {
      "text/plain": [
       "[ObjectRef(ed2adb97ff2cc165ffffffffffffffffffffffff0400000001000000),\n",
       " ObjectRef(7d8e08d6d8a9b4edffffffffffffffffffffffff0400000001000000)]"
      ]
     },
     "execution_count": 88,
     "metadata": {},
     "output_type": "execute_result"
    }
   ],
   "source": [
    "task_refs = [square.remote(i) for i in range(10)]\n",
    "\n",
    "done, not_done = ray.wait(task_refs, num_returns=2)\n",
    "\n",
    "done"
   ]
  },
  {
   "cell_type": "code",
   "execution_count": 89,
   "id": "eaa39309-8f08-4e51-ab19-65999964819a",
   "metadata": {
    "tags": []
   },
   "outputs": [
    {
     "data": {
      "text/plain": [
       "8"
      ]
     },
     "execution_count": 89,
     "metadata": {},
     "output_type": "execute_result"
    }
   ],
   "source": [
    "len(not_done)"
   ]
  },
  {
   "cell_type": "code",
   "execution_count": null,
   "id": "ae11e175-e157-4fa5-b945-d8c6f9351202",
   "metadata": {},
   "outputs": [],
   "source": []
  },
  {
   "cell_type": "code",
   "execution_count": null,
   "id": "694f42b2-d4f3-4842-adf3-45e90c5b2f85",
   "metadata": {},
   "outputs": [],
   "source": []
  },
  {
   "cell_type": "code",
   "execution_count": null,
   "id": "6800f7c5-0514-49a5-8ba8-4d0d7d1ad19f",
   "metadata": {},
   "outputs": [],
   "source": []
  },
  {
   "cell_type": "code",
   "execution_count": null,
   "id": "e712eccb-856c-4898-b07c-001f61d3d4d0",
   "metadata": {},
   "outputs": [],
   "source": []
  }
 ],
 "metadata": {
  "kernelspec": {
   "display_name": "Python 3 (ipykernel)",
   "language": "python",
   "name": "python3"
  },
  "language_info": {
   "codemirror_mode": {
    "name": "ipython",
    "version": 3
   },
   "file_extension": ".py",
   "mimetype": "text/x-python",
   "name": "python",
   "nbconvert_exporter": "python",
   "pygments_lexer": "ipython3",
   "version": "3.11.8"
  }
 },
 "nbformat": 4,
 "nbformat_minor": 5
}
