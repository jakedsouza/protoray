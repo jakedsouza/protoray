{
 "cells": [
  {
   "cell_type": "code",
   "execution_count": null,
   "id": "381e92c6",
   "metadata": {},
   "outputs": [],
   "source": [
    "# Ray aDAG Developer Guide - Hands-on Walkthrough\n",
    "\n",
    "## 1. Introduction to Ray aDAGs\n",
    "# Note: Transition to slides to explain \"What is Ray aDAG?\" and \"Why Use aDAGs?\"\n",
    "# (Discuss performance benefits and specific use cases like LLM inference.)\n",
    "\n",
    "# Also note that this requires both torch and ray installed (obviously) but both are prepped already as part of the image \n",
    "# for Ray Summit Training 2024"
   ]
  },
  {
   "cell_type": "code",
   "execution_count": 1,
   "id": "bc02b887",
   "metadata": {},
   "outputs": [
    {
     "name": "stderr",
     "output_type": "stream",
     "text": [
      "2024-09-30 17:54:16,246\tINFO worker.py:1601 -- Connecting to existing Ray cluster at address: 10.0.138.179:6379...\n",
      "2024-09-30 17:54:16,253\tINFO worker.py:1777 -- Connected to Ray cluster. View the dashboard at \u001b[1m\u001b[32mhttps://session-bimi5q6im9gb2znrbq9siuvzkr.i.anyscaleuserdata.com \u001b[39m\u001b[22m\n",
      "2024-09-30 17:54:16,261\tINFO packaging.py:359 -- Pushing file package 'gcs://_ray_pkg_14502321ab26dd8c884e1a040236a348b01f05bf.zip' (0.33MiB) to Ray cluster...\n",
      "2024-09-30 17:54:16,264\tINFO packaging.py:372 -- Successfully pushed file package 'gcs://_ray_pkg_14502321ab26dd8c884e1a040236a348b01f05bf.zip'.\n",
      "\u001b[36m(GPUReceiver pid=13065, ip=10.0.131.8)\u001b[0m /home/ray/anaconda3/lib/python3.11/site-packages/ray/experimental/channel/serialization_context.py:115: UserWarning: The given NumPy array is not writable, and PyTorch does not support non-writable tensors. This means writing to this tensor will result in undefined behavior. You may want to copy the array to protect its data or make it writable before converting it to a tensor. This type of warning will be suppressed for the rest of this program. (Triggered internally at ../torch/csrc/utils/tensor_numpy.cpp:206.)\n",
      "\u001b[36m(GPUReceiver pid=13065, ip=10.0.131.8)\u001b[0m   cpu_tensor = torch.from_numpy(np_array)\n"
     ]
    },
    {
     "name": "stdout",
     "output_type": "stream",
     "text": [
      "\u001b[36m(autoscaler +9m17s)\u001b[0m Tip: use `ray status` to view detailed cluster status. To disable these messages, set RAY_SCHEDULER_EVENTS=0.\n"
     ]
    }
   ],
   "source": [
    "# Step 2: Define and Create Actors with Ray Core\n",
    "import ray\n",
    "\n",
    "@ray.remote\n",
    "class EchoActor:\n",
    "    def echo(self, msg):\n",
    "        return msg\n",
    "\n",
    "# Create two actors\n",
    "a = EchoActor.remote()\n",
    "b = EchoActor.remote()"
   ]
  },
  {
   "cell_type": "code",
   "execution_count": 2,
   "id": "27097255",
   "metadata": {},
   "outputs": [
    {
     "name": "stdout",
     "output_type": "stream",
     "text": [
      "hello\n"
     ]
    }
   ],
   "source": [
    "# Send a message and get a response\n",
    "msg_ref = a.echo.remote(\"hello\")\n",
    "msg_ref = b.echo.remote(msg_ref)\n",
    "print(ray.get(msg_ref))  # Expected output: \"hello\""
   ]
  },
  {
   "cell_type": "code",
   "execution_count": 3,
   "id": "5aa7187c",
   "metadata": {},
   "outputs": [],
   "source": [
    "## 3. Using Ray aDAGs for Performance Optimization\n",
    "# Note: Transition to slides to explain \"How Ray Core traditionally executes tasks\" \n",
    "# and \"Challenges with dynamic control flow\" (discuss overheads with serialization and object store).\n",
    "\n",
    "# Step 3: Define and Execute with Ray DAG API (Classic Ray Core)\n",
    "import ray.dag\n",
    "import time"
   ]
  },
  {
   "cell_type": "code",
   "execution_count": 4,
   "id": "c58f8f70",
   "metadata": {},
   "outputs": [],
   "source": [
    "# Define a lazy DAG\n",
    "with ray.dag.InputNode() as inp:\n",
    "    intermediate_inp = a.echo.bind(inp)\n",
    "    dag = b.echo.bind(intermediate_inp)"
   ]
  },
  {
   "cell_type": "code",
   "execution_count": 5,
   "id": "85954667",
   "metadata": {},
   "outputs": [
    {
     "name": "stdout",
     "output_type": "stream",
     "text": [
      "hello\n",
      "world\n"
     ]
    }
   ],
   "source": [
    "# Execute the DAG with inputs\n",
    "print(ray.get(dag.execute(\"hello\")))\n",
    "print(ray.get(dag.execute(\"world\")))"
   ]
  },
  {
   "cell_type": "code",
   "execution_count": 6,
   "id": "af998905",
   "metadata": {},
   "outputs": [
    {
     "name": "stdout",
     "output_type": "stream",
     "text": [
      "Took 0.003645734000201628\n",
      "Took 0.002077852000184066\n",
      "Took 0.002066164999632747\n",
      "Took 0.0019400420005695196\n",
      "Took 0.0019085539997831802\n"
     ]
    }
   ],
   "source": [
    "# Time the execution\n",
    "for _ in range(5):\n",
    "    start = time.perf_counter()\n",
    "    ray.get(dag.execute(\"hello\"))\n",
    "    print(\"Took\", time.perf_counter() - start)"
   ]
  },
  {
   "cell_type": "code",
   "execution_count": 7,
   "id": "c75fecdd",
   "metadata": {},
   "outputs": [],
   "source": [
    "## 4. Optimizing with Ray aDAGs\n",
    "\n",
    "# Step 4: Compile and Execute with aDAG Backend and time and compare the difference in exec speed\n",
    "adag = dag.experimental_compile()"
   ]
  },
  {
   "cell_type": "code",
   "execution_count": 8,
   "id": "60f46cb6",
   "metadata": {},
   "outputs": [
    {
     "name": "stdout",
     "output_type": "stream",
     "text": [
      "Took 0.0031345869992946973\n",
      "Took 0.0006918250001035631\n",
      "Took 0.000573442000131763\n",
      "Took 0.0005373019994294737\n",
      "Took 0.0005289509999784059\n"
     ]
    }
   ],
   "source": [
    "# Execute the aDAG and measure the time\n",
    "for _ in range(5):\n",
    "    start = time.perf_counter()\n",
    "    ray.get(adag.execute(\"hello\"))\n",
    "    print(\"Took\", time.perf_counter() - start)"
   ]
  },
  {
   "cell_type": "code",
   "execution_count": 11,
   "id": "e5162a76-7237-4727-9153-158d53f7657e",
   "metadata": {},
   "outputs": [],
   "source": [
    "from ray.dag import plot"
   ]
  },
  {
   "cell_type": "code",
   "execution_count": null,
   "id": "2e85bd07-10ab-4af2-b741-f659076b0d8f",
   "metadata": {},
   "outputs": [],
   "source": [
    "# pip install pydot\n",
    "!sudo apt install -y graphviz"
   ]
  },
  {
   "cell_type": "code",
   "execution_count": 12,
   "id": "0d699f97-6faf-4e52-a2b1-746404830f64",
   "metadata": {},
   "outputs": [
    {
     "data": {
      "image/png": "[encoded data removed]",
      "text/plain": [
       "<IPython.core.display.Image object>"
      ]
     },
     "execution_count": 12,
     "metadata": {},
     "output_type": "execute_result"
    }
   ],
   "source": [
    "plot(dag)"
   ]
  },
  {
   "cell_type": "code",
   "execution_count": 13,
   "id": "4658867e",
   "metadata": {},
   "outputs": [
    {
     "name": "stderr",
     "output_type": "stream",
     "text": [
      "2024-09-30 17:55:08,943\tINFO compiled_dag_node.py:1787 -- Tearing down compiled DAG\n",
      "2024-09-30 17:55:08,944\tINFO compiled_dag_node.py:1793 -- Cancelling compiled worker on actor: Actor(EchoActor, 3272e406721d330e8b0589ce06000000)\n",
      "2024-09-30 17:55:08,944\tINFO compiled_dag_node.py:1793 -- Cancelling compiled worker on actor: Actor(EchoActor, e6a73d523de68793e8458ef306000000)\n",
      "2024-09-30 17:55:08,948\tINFO compiled_dag_node.py:1812 -- Waiting for worker tasks to exit\n",
      "2024-09-30 17:55:08,949\tINFO compiled_dag_node.py:1814 -- Teardown complete\n"
     ]
    }
   ],
   "source": [
    "# Tear down the DAG\n",
    "adag.teardown()"
   ]
  },
  {
   "cell_type": "code",
   "execution_count": 14,
   "id": "3ee49cb2",
   "metadata": {},
   "outputs": [],
   "source": [
    "## 5. [BONUS #1] Multi-Actor Execution in Ray aDAG\n",
    "\n",
    "# Step 5: Executing Across Multiple Actors with Ray aDAG\n",
    "# Create multiple actors\n",
    "N = 3\n",
    "actors = [EchoActor.remote() for _ in range(N)]\n"
   ]
  },
  {
   "cell_type": "code",
   "execution_count": 15,
   "id": "a1b0cc48",
   "metadata": {},
   "outputs": [],
   "source": [
    "\n",
    "# Define the DAG with multiple outputs\n",
    "with ray.dag.InputNode() as inp:\n",
    "    outputs = [actor.echo.bind(inp) for actor in actors]\n",
    "    dag = ray.dag.MultiOutputNode(outputs)\n"
   ]
  },
  {
   "cell_type": "code",
   "execution_count": 16,
   "id": "af593a22",
   "metadata": {},
   "outputs": [
    {
     "ename": "ValueError",
     "evalue": "All reader actors must be on the same node. Actor Actor(EchoActor, a6608f2532f37c091ccf747b06000000) is on node 664d4480a4b87323a60cbb7e0cbf6c03f7f3a7f8ed65b9a2efb3bc67 while actor Actor(EchoActor, c07bd99e5dad129b81fc02c706000000) is on node 3d431779794ccc040744af2e893751f59e8163e5a3ece710c46c29e9.",
     "output_type": "error",
     "traceback": [
      "\u001b[0;31m---------------------------------------------------------------------------\u001b[0m",
      "\u001b[0;31mValueError\u001b[0m                                Traceback (most recent call last)",
      "Cell \u001b[0;32mIn[16], line 2\u001b[0m\n\u001b[1;32m      1\u001b[0m \u001b[38;5;66;03m# Compile and execute the DAG\u001b[39;00m\n\u001b[0;32m----> 2\u001b[0m adag \u001b[38;5;241m=\u001b[39m \u001b[43mdag\u001b[49m\u001b[38;5;241;43m.\u001b[39;49m\u001b[43mexperimental_compile\u001b[49m\u001b[43m(\u001b[49m\u001b[43m)\u001b[49m\n\u001b[1;32m      3\u001b[0m \u001b[38;5;28mprint\u001b[39m(ray\u001b[38;5;241m.\u001b[39mget(adag\u001b[38;5;241m.\u001b[39mexecute(\u001b[38;5;124m\"\u001b[39m\u001b[38;5;124mhello\u001b[39m\u001b[38;5;124m\"\u001b[39m)))  \u001b[38;5;66;03m# Expected: [\"hello\", \"hello\", \"hello\"]\u001b[39;00m\n",
      "File \u001b[0;32m~/anaconda3/lib/python3.11/site-packages/ray/dag/dag_node.py:214\u001b[0m, in \u001b[0;36mDAGNode.experimental_compile\u001b[0;34m(self, _execution_timeout, _buffer_size_bytes, enable_asyncio, _asyncio_max_queue_size, _max_buffered_results)\u001b[0m\n\u001b[1;32m    210\u001b[0m \u001b[38;5;66;03m# Whether this node is an output node in the DAG. We cannot determine\u001b[39;00m\n\u001b[1;32m    211\u001b[0m \u001b[38;5;66;03m# this in the constructor because the output node is determined when\u001b[39;00m\n\u001b[1;32m    212\u001b[0m \u001b[38;5;66;03m# `experimental_compile` is called.\u001b[39;00m\n\u001b[1;32m    213\u001b[0m \u001b[38;5;28mself\u001b[39m\u001b[38;5;241m.\u001b[39mis_adag_output_node \u001b[38;5;241m=\u001b[39m \u001b[38;5;28;01mTrue\u001b[39;00m\n\u001b[0;32m--> 214\u001b[0m \u001b[38;5;28;01mreturn\u001b[39;00m \u001b[43mbuild_compiled_dag_from_ray_dag\u001b[49m\u001b[43m(\u001b[49m\n\u001b[1;32m    215\u001b[0m \u001b[43m    \u001b[49m\u001b[38;5;28;43mself\u001b[39;49m\u001b[43m,\u001b[49m\n\u001b[1;32m    216\u001b[0m \u001b[43m    \u001b[49m\u001b[43m_execution_timeout\u001b[49m\u001b[43m,\u001b[49m\n\u001b[1;32m    217\u001b[0m \u001b[43m    \u001b[49m\u001b[43m_buffer_size_bytes\u001b[49m\u001b[43m,\u001b[49m\n\u001b[1;32m    218\u001b[0m \u001b[43m    \u001b[49m\u001b[43menable_asyncio\u001b[49m\u001b[43m,\u001b[49m\n\u001b[1;32m    219\u001b[0m \u001b[43m    \u001b[49m\u001b[43m_asyncio_max_queue_size\u001b[49m\u001b[43m,\u001b[49m\n\u001b[1;32m    220\u001b[0m \u001b[43m    \u001b[49m\u001b[43m_max_buffered_results\u001b[49m\u001b[43m,\u001b[49m\n\u001b[1;32m    221\u001b[0m \u001b[43m\u001b[49m\u001b[43m)\u001b[49m\n",
      "File \u001b[0;32m~/anaconda3/lib/python3.11/site-packages/ray/dag/compiled_dag_node.py:2024\u001b[0m, in \u001b[0;36mbuild_compiled_dag_from_ray_dag\u001b[0;34m(dag, execution_timeout, buffer_size_bytes, enable_asyncio, asyncio_max_queue_size, max_buffered_results)\u001b[0m\n\u001b[1;32m   2022\u001b[0m root \u001b[38;5;241m=\u001b[39m dag\u001b[38;5;241m.\u001b[39m_find_root()\n\u001b[1;32m   2023\u001b[0m root\u001b[38;5;241m.\u001b[39mtraverse_and_apply(_build_compiled_dag)\n\u001b[0;32m-> 2024\u001b[0m \u001b[43mcompiled_dag\u001b[49m\u001b[38;5;241;43m.\u001b[39;49m\u001b[43m_get_or_compile\u001b[49m\u001b[43m(\u001b[49m\u001b[43m)\u001b[49m\n\u001b[1;32m   2025\u001b[0m \u001b[38;5;28;01mreturn\u001b[39;00m compiled_dag\n",
      "File \u001b[0;32m~/anaconda3/lib/python3.11/site-packages/ray/dag/compiled_dag_node.py:1224\u001b[0m, in \u001b[0;36mCompiledDAG._get_or_compile\u001b[0;34m(self)\u001b[0m\n\u001b[1;32m   1219\u001b[0m             reader_and_node_list\u001b[38;5;241m.\u001b[39mappend(\n\u001b[1;32m   1220\u001b[0m                 (reader_handle, \u001b[38;5;28mself\u001b[39m\u001b[38;5;241m.\u001b[39m_get_node_id(reader_handle))\n\u001b[1;32m   1221\u001b[0m             )\n\u001b[1;32m   1222\u001b[0m         reader_handles_set\u001b[38;5;241m.\u001b[39madd(reader_handle)\n\u001b[1;32m   1223\u001b[0m     task\u001b[38;5;241m.\u001b[39moutput_channels \u001b[38;5;241m=\u001b[39m [\n\u001b[0;32m-> 1224\u001b[0m         \u001b[43mdo_allocate_channel\u001b[49m\u001b[43m(\u001b[49m\n\u001b[1;32m   1225\u001b[0m \u001b[43m            \u001b[49m\u001b[38;5;28;43mself\u001b[39;49m\u001b[43m,\u001b[49m\n\u001b[1;32m   1226\u001b[0m \u001b[43m            \u001b[49m\u001b[43mreader_and_node_list\u001b[49m\u001b[43m,\u001b[49m\n\u001b[1;32m   1227\u001b[0m \u001b[43m            \u001b[49m\u001b[43mtyp\u001b[49m\u001b[38;5;241;43m=\u001b[39;49m\u001b[43mtype_hint\u001b[49m\u001b[43m,\u001b[49m\n\u001b[1;32m   1228\u001b[0m \u001b[43m        \u001b[49m\u001b[43m)\u001b[49m\n\u001b[1;32m   1229\u001b[0m     ]\n\u001b[1;32m   1230\u001b[0m \u001b[38;5;28;01melse\u001b[39;00m:\n\u001b[1;32m   1231\u001b[0m     \u001b[38;5;28;01massert\u001b[39;00m \u001b[38;5;28misinstance\u001b[39m(task\u001b[38;5;241m.\u001b[39mdag_node, InputAttributeNode) \u001b[38;5;129;01mor\u001b[39;00m \u001b[38;5;28misinstance\u001b[39m(\n\u001b[1;32m   1232\u001b[0m         task\u001b[38;5;241m.\u001b[39mdag_node, MultiOutputNode\n\u001b[1;32m   1233\u001b[0m     )\n",
      "File \u001b[0;32m~/anaconda3/lib/python3.11/site-packages/ray/dag/compiled_dag_node.py:86\u001b[0m, in \u001b[0;36mdo_allocate_channel\u001b[0;34m(self, reader_and_node_list, typ)\u001b[0m\n\u001b[1;32m     82\u001b[0m \u001b[38;5;28;01mexcept\u001b[39;00m \u001b[38;5;167;01mRuntimeError\u001b[39;00m:\n\u001b[1;32m     83\u001b[0m     \u001b[38;5;66;03m# This is the driver so there is no current actor handle.\u001b[39;00m\n\u001b[1;32m     84\u001b[0m     \u001b[38;5;28;01mpass\u001b[39;00m\n\u001b[0;32m---> 86\u001b[0m output_channel \u001b[38;5;241m=\u001b[39m \u001b[43mtyp\u001b[49m\u001b[38;5;241;43m.\u001b[39;49m\u001b[43mcreate_channel\u001b[49m\u001b[43m(\u001b[49m\n\u001b[1;32m     87\u001b[0m \u001b[43m    \u001b[49m\u001b[43mself_actor\u001b[49m\u001b[43m,\u001b[49m\n\u001b[1;32m     88\u001b[0m \u001b[43m    \u001b[49m\u001b[43mreader_and_node_list\u001b[49m\u001b[43m,\u001b[49m\n\u001b[1;32m     89\u001b[0m \u001b[43m\u001b[49m\u001b[43m)\u001b[49m\n\u001b[1;32m     90\u001b[0m \u001b[38;5;28;01mreturn\u001b[39;00m output_channel\n",
      "File \u001b[0;32m~/anaconda3/lib/python3.11/site-packages/ray/experimental/channel/shared_memory_channel.py:136\u001b[0m, in \u001b[0;36mSharedMemoryType.create_channel\u001b[0;34m(self, writer, reader_and_node_list)\u001b[0m\n\u001b[1;32m    126\u001b[0m         cpu_data_typ \u001b[38;5;241m=\u001b[39m SharedMemoryType(\n\u001b[1;32m    127\u001b[0m             buffer_size_bytes\u001b[38;5;241m=\u001b[39m\u001b[38;5;28mself\u001b[39m\u001b[38;5;241m.\u001b[39mbuffer_size_bytes\n\u001b[1;32m    128\u001b[0m         )\n\u001b[1;32m    129\u001b[0m         \u001b[38;5;28;01mreturn\u001b[39;00m NestedTorchTensorNcclChannel(\n\u001b[1;32m    130\u001b[0m             writer,\n\u001b[1;32m    131\u001b[0m             reader_and_node_list,\n\u001b[1;32m    132\u001b[0m             gpu_data_typ\u001b[38;5;241m=\u001b[39m\u001b[38;5;28mself\u001b[39m\u001b[38;5;241m.\u001b[39m_contains_type,\n\u001b[1;32m    133\u001b[0m             cpu_data_typ\u001b[38;5;241m=\u001b[39mcpu_data_typ,\n\u001b[1;32m    134\u001b[0m         )\n\u001b[0;32m--> 136\u001b[0m \u001b[38;5;28;01mreturn\u001b[39;00m \u001b[43mCompositeChannel\u001b[49m\u001b[43m(\u001b[49m\u001b[43mwriter\u001b[49m\u001b[43m,\u001b[49m\u001b[43m \u001b[49m\u001b[43mreader_and_node_list\u001b[49m\u001b[43m)\u001b[49m\n",
      "File \u001b[0;32m~/anaconda3/lib/python3.11/site-packages/ray/experimental/channel/shared_memory_channel.py:539\u001b[0m, in \u001b[0;36mCompositeChannel.__init__\u001b[0;34m(self, writer, reader_and_node_list, _channel_dict, _channels, _writer_registered, _reader_registered)\u001b[0m\n\u001b[1;32m    536\u001b[0m \u001b[38;5;66;03m# There are some remote readers which are not the same Ray actor as the writer.\u001b[39;00m\n\u001b[1;32m    537\u001b[0m \u001b[38;5;66;03m# Create a shared memory channel for the writer and the remote readers.\u001b[39;00m\n\u001b[1;32m    538\u001b[0m \u001b[38;5;28;01mif\u001b[39;00m \u001b[38;5;28mlen\u001b[39m(remote_reader_and_node_list) \u001b[38;5;241m!=\u001b[39m \u001b[38;5;241m0\u001b[39m:\n\u001b[0;32m--> 539\u001b[0m     remote_channel \u001b[38;5;241m=\u001b[39m \u001b[43mChannel\u001b[49m\u001b[43m(\u001b[49m\u001b[38;5;28;43mself\u001b[39;49m\u001b[38;5;241;43m.\u001b[39;49m\u001b[43m_writer\u001b[49m\u001b[43m,\u001b[49m\u001b[43m \u001b[49m\u001b[43mremote_reader_and_node_list\u001b[49m\u001b[43m)\u001b[49m\n\u001b[1;32m    540\u001b[0m     \u001b[38;5;28mself\u001b[39m\u001b[38;5;241m.\u001b[39m_channels\u001b[38;5;241m.\u001b[39madd(remote_channel)\n\u001b[1;32m    541\u001b[0m     \u001b[38;5;28;01mfor\u001b[39;00m reader, _ \u001b[38;5;129;01min\u001b[39;00m remote_reader_and_node_list:\n",
      "File \u001b[0;32m~/anaconda3/lib/python3.11/site-packages/ray/experimental/channel/shared_memory_channel.py:236\u001b[0m, in \u001b[0;36mChannel.__init__\u001b[0;34m(self, writer, reader_and_node_list, typ, _writer_node_id, _reader_node_id, _writer_ref, _reader_ref, _writer_registered, _reader_registered)\u001b[0m\n\u001b[1;32m    234\u001b[0m         prev_reader_node \u001b[38;5;241m=\u001b[39m node\n\u001b[1;32m    235\u001b[0m     \u001b[38;5;28;01melif\u001b[39;00m prev_reader_node \u001b[38;5;241m!=\u001b[39m node:\n\u001b[0;32m--> 236\u001b[0m         \u001b[38;5;28;01mraise\u001b[39;00m \u001b[38;5;167;01mValueError\u001b[39;00m(\n\u001b[1;32m    237\u001b[0m             \u001b[38;5;124mf\u001b[39m\u001b[38;5;124m\"\u001b[39m\u001b[38;5;124mAll reader actors must be on the same node. Actor \u001b[39m\u001b[38;5;124m\"\u001b[39m\n\u001b[1;32m    238\u001b[0m             \u001b[38;5;124mf\u001b[39m\u001b[38;5;124m\"\u001b[39m\u001b[38;5;132;01m{\u001b[39;00mprev_reader\u001b[38;5;132;01m}\u001b[39;00m\u001b[38;5;124m is on node \u001b[39m\u001b[38;5;132;01m{\u001b[39;00mprev_reader_node\u001b[38;5;132;01m}\u001b[39;00m\u001b[38;5;124m while actor \u001b[39m\u001b[38;5;124m\"\u001b[39m\n\u001b[1;32m    239\u001b[0m             \u001b[38;5;124mf\u001b[39m\u001b[38;5;124m\"\u001b[39m\u001b[38;5;132;01m{\u001b[39;00mreader\u001b[38;5;132;01m}\u001b[39;00m\u001b[38;5;124m is on node \u001b[39m\u001b[38;5;132;01m{\u001b[39;00mnode\u001b[38;5;132;01m}\u001b[39;00m\u001b[38;5;124m.\u001b[39m\u001b[38;5;124m\"\u001b[39m\n\u001b[1;32m    240\u001b[0m         )\n\u001b[1;32m    241\u001b[0m     prev_reader \u001b[38;5;241m=\u001b[39m reader\n\u001b[1;32m    243\u001b[0m \u001b[38;5;28mself\u001b[39m\u001b[38;5;241m.\u001b[39m_writer_node_id \u001b[38;5;241m=\u001b[39m (\n\u001b[1;32m    244\u001b[0m     ray\u001b[38;5;241m.\u001b[39mruntime_context\u001b[38;5;241m.\u001b[39mget_runtime_context()\u001b[38;5;241m.\u001b[39mget_node_id()\n\u001b[1;32m    245\u001b[0m )\n",
      "\u001b[0;31mValueError\u001b[0m: All reader actors must be on the same node. Actor Actor(EchoActor, a6608f2532f37c091ccf747b06000000) is on node 664d4480a4b87323a60cbb7e0cbf6c03f7f3a7f8ed65b9a2efb3bc67 while actor Actor(EchoActor, c07bd99e5dad129b81fc02c706000000) is on node 3d431779794ccc040744af2e893751f59e8163e5a3ece710c46c29e9."
     ]
    }
   ],
   "source": [
    "\n",
    "# Compile and execute the DAG\n",
    "adag = dag.experimental_compile()\n",
    "print(ray.get(adag.execute(\"hello\")))  # Expected: [\"hello\", \"hello\", \"hello\"]\n"
   ]
  },
  {
   "cell_type": "code",
   "execution_count": 18,
   "id": "2638f3aa",
   "metadata": {},
   "outputs": [],
   "source": [
    "\n",
    "# Tear down the DAG\n",
    "adag.teardown()\n",
    "\n"
   ]
  },
  {
   "cell_type": "code",
   "execution_count": 19,
   "id": "a47fa55c",
   "metadata": {},
   "outputs": [],
   "source": [
    "## 6. [BONUS #2] GPU-GPU Communication with aDAGs\n",
    "\n",
    "# Note: Transition to slides to discuss \"GPU-GPU communication and NCCL\".\n",
    "\n",
    "# Step 6: GPU to GPU Data Transfer Example\n",
    "import torch\n",
    "from ray.experimental.channel.torch_tensor_type import TorchTensorType\n",
    "\n",
    "@ray.remote(num_gpus=1)\n",
    "class GPUSender:\n",
    "    def send(self, shape):\n",
    "        return torch.zeros(shape, device=\"cuda\")\n",
    "@ray.remote(num_gpus=1)\n",
    "class GPUReceiver:\n",
    "    def recv(self, tensor: torch.Tensor):\n",
    "        assert tensor.device.type == \"cuda\"\n",
    "        return tensor.shape\n"
   ]
  },
  {
   "cell_type": "code",
   "execution_count": 20,
   "id": "0898fec3",
   "metadata": {},
   "outputs": [],
   "source": [
    "# Create the sender and receiver actors\n",
    "sender = GPUSender.remote()\n",
    "receiver = GPUReceiver.remote()\n"
   ]
  },
  {
   "cell_type": "code",
   "execution_count": 21,
   "id": "10a1cb3b",
   "metadata": {},
   "outputs": [],
   "source": [
    "# Define and compile a DAG for GPU-GPU communication\n",
    "with ray.dag.InputNode() as inp:\n",
    "    dag = sender.send.bind(inp)\n",
    "    dag = dag.with_type_hint(TorchTensorType())\n",
    "    dag = receiver.recv.bind(dag)\n",
    "adag = dag.experimental_compile()\n"
   ]
  },
  {
   "cell_type": "code",
   "execution_count": 22,
   "id": "83d03b54",
   "metadata": {},
   "outputs": [
    {
     "name": "stderr",
     "output_type": "stream",
     "text": [
      "2024-09-30 17:55:37,441\tINFO compiled_dag_node.py:1787 -- Tearing down compiled DAG\n",
      "2024-09-30 17:55:37,442\tINFO compiled_dag_node.py:1793 -- Cancelling compiled worker on actor: Actor(GPUReceiver, f83fbaa6a6d83447ca8e8c4206000000)\n",
      "2024-09-30 17:55:37,442\tINFO compiled_dag_node.py:1793 -- Cancelling compiled worker on actor: Actor(GPUSender, 8c90a6fe8b0cfc54b76278fb06000000)\n",
      "2024-09-30 17:55:37,446\tINFO compiled_dag_node.py:1812 -- Waiting for worker tasks to exit\n",
      "2024-09-30 17:55:37,447\tINFO compiled_dag_node.py:1814 -- Teardown complete\n"
     ]
    }
   ],
   "source": [
    "# Execute the DAG and check the results\n",
    "assert ray.get(adag.execute((10, ))) == (10, )\n",
    "adag.teardown()\n",
    "\n",
    "## 7. Conclusion and Summary\n",
    "# Note: Transition to slides for summarizing key takeaways and discussing \n",
    "# limitations of aDAGs (e.g., actor constraints, NCCL)."
   ]
  },
  {
   "cell_type": "code",
   "execution_count": 23,
   "id": "2e1a177a",
   "metadata": {},
   "outputs": [
    {
     "name": "stdout",
     "output_type": "stream",
     "text": [
      "hello\n",
      "hello\n",
      "world\n",
      "Took 0.0018126659997506067\n",
      "Took 0.0017954260001715738\n",
      "Took 0.0017651680000199121\n",
      "Took 0.0017315570003120229\n",
      "Took 0.0018116640003427165\n"
     ]
    },
    {
     "name": "stderr",
     "output_type": "stream",
     "text": [
      "2024-09-30 17:55:38,691\tINFO compiled_dag_node.py:1787 -- Tearing down compiled DAG\n",
      "2024-09-30 17:55:38,692\tINFO compiled_dag_node.py:1793 -- Cancelling compiled worker on actor: Actor(EchoActor, 3272e406721d330e8b0589ce06000000)\n",
      "2024-09-30 17:55:38,692\tINFO compiled_dag_node.py:1793 -- Cancelling compiled worker on actor: Actor(EchoActor, e6a73d523de68793e8458ef306000000)\n",
      "2024-09-30 17:55:38,695\tINFO compiled_dag_node.py:1812 -- Waiting for worker tasks to exit\n",
      "2024-09-30 17:55:38,696\tINFO compiled_dag_node.py:1814 -- Teardown complete\n"
     ]
    },
    {
     "name": "stdout",
     "output_type": "stream",
     "text": [
      "Took 0.0025822930001595523\n",
      "Took 0.000752711000131967\n",
      "Took 0.0006054590003259364\n",
      "Took 0.0005476650003402028\n",
      "Took 0.0005546590000449214\n"
     ]
    },
    {
     "ename": "ValueError",
     "evalue": "All reader actors must be on the same node. Actor Actor(EchoActor, 6bc658b0e62fff026a6734a106000000) is on node 664d4480a4b87323a60cbb7e0cbf6c03f7f3a7f8ed65b9a2efb3bc67 while actor Actor(EchoActor, 5fe6e767b52538996021b72006000000) is on node 3d431779794ccc040744af2e893751f59e8163e5a3ece710c46c29e9.",
     "output_type": "error",
     "traceback": [
      "\u001b[0;31m---------------------------------------------------------------------------\u001b[0m",
      "\u001b[0;31mValueError\u001b[0m                                Traceback (most recent call last)",
      "Cell \u001b[0;32mIn[23], line 50\u001b[0m\n\u001b[1;32m     48\u001b[0m     dag \u001b[38;5;241m=\u001b[39m ray\u001b[38;5;241m.\u001b[39mdag\u001b[38;5;241m.\u001b[39mMultiOutputNode(outputs)\n\u001b[1;32m     49\u001b[0m \u001b[38;5;66;03m# Compile and execute the DAG\u001b[39;00m\n\u001b[0;32m---> 50\u001b[0m adag \u001b[38;5;241m=\u001b[39m \u001b[43mdag\u001b[49m\u001b[38;5;241;43m.\u001b[39;49m\u001b[43mexperimental_compile\u001b[49m\u001b[43m(\u001b[49m\u001b[43m)\u001b[49m\n\u001b[1;32m     51\u001b[0m \u001b[38;5;28mprint\u001b[39m(ray\u001b[38;5;241m.\u001b[39mget(adag\u001b[38;5;241m.\u001b[39mexecute(\u001b[38;5;124m\"\u001b[39m\u001b[38;5;124mhello\u001b[39m\u001b[38;5;124m\"\u001b[39m)))  \u001b[38;5;66;03m# Expected: [\"hello\", \"hello\", \"hello\"]\u001b[39;00m\n\u001b[1;32m     52\u001b[0m \u001b[38;5;66;03m# Tear down the DAG\u001b[39;00m\n",
      "File \u001b[0;32m~/anaconda3/lib/python3.11/site-packages/ray/dag/dag_node.py:214\u001b[0m, in \u001b[0;36mDAGNode.experimental_compile\u001b[0;34m(self, _execution_timeout, _buffer_size_bytes, enable_asyncio, _asyncio_max_queue_size, _max_buffered_results)\u001b[0m\n\u001b[1;32m    210\u001b[0m \u001b[38;5;66;03m# Whether this node is an output node in the DAG. We cannot determine\u001b[39;00m\n\u001b[1;32m    211\u001b[0m \u001b[38;5;66;03m# this in the constructor because the output node is determined when\u001b[39;00m\n\u001b[1;32m    212\u001b[0m \u001b[38;5;66;03m# `experimental_compile` is called.\u001b[39;00m\n\u001b[1;32m    213\u001b[0m \u001b[38;5;28mself\u001b[39m\u001b[38;5;241m.\u001b[39mis_adag_output_node \u001b[38;5;241m=\u001b[39m \u001b[38;5;28;01mTrue\u001b[39;00m\n\u001b[0;32m--> 214\u001b[0m \u001b[38;5;28;01mreturn\u001b[39;00m \u001b[43mbuild_compiled_dag_from_ray_dag\u001b[49m\u001b[43m(\u001b[49m\n\u001b[1;32m    215\u001b[0m \u001b[43m    \u001b[49m\u001b[38;5;28;43mself\u001b[39;49m\u001b[43m,\u001b[49m\n\u001b[1;32m    216\u001b[0m \u001b[43m    \u001b[49m\u001b[43m_execution_timeout\u001b[49m\u001b[43m,\u001b[49m\n\u001b[1;32m    217\u001b[0m \u001b[43m    \u001b[49m\u001b[43m_buffer_size_bytes\u001b[49m\u001b[43m,\u001b[49m\n\u001b[1;32m    218\u001b[0m \u001b[43m    \u001b[49m\u001b[43menable_asyncio\u001b[49m\u001b[43m,\u001b[49m\n\u001b[1;32m    219\u001b[0m \u001b[43m    \u001b[49m\u001b[43m_asyncio_max_queue_size\u001b[49m\u001b[43m,\u001b[49m\n\u001b[1;32m    220\u001b[0m \u001b[43m    \u001b[49m\u001b[43m_max_buffered_results\u001b[49m\u001b[43m,\u001b[49m\n\u001b[1;32m    221\u001b[0m \u001b[43m\u001b[49m\u001b[43m)\u001b[49m\n",
      "File \u001b[0;32m~/anaconda3/lib/python3.11/site-packages/ray/dag/compiled_dag_node.py:2024\u001b[0m, in \u001b[0;36mbuild_compiled_dag_from_ray_dag\u001b[0;34m(dag, execution_timeout, buffer_size_bytes, enable_asyncio, asyncio_max_queue_size, max_buffered_results)\u001b[0m\n\u001b[1;32m   2022\u001b[0m root \u001b[38;5;241m=\u001b[39m dag\u001b[38;5;241m.\u001b[39m_find_root()\n\u001b[1;32m   2023\u001b[0m root\u001b[38;5;241m.\u001b[39mtraverse_and_apply(_build_compiled_dag)\n\u001b[0;32m-> 2024\u001b[0m \u001b[43mcompiled_dag\u001b[49m\u001b[38;5;241;43m.\u001b[39;49m\u001b[43m_get_or_compile\u001b[49m\u001b[43m(\u001b[49m\u001b[43m)\u001b[49m\n\u001b[1;32m   2025\u001b[0m \u001b[38;5;28;01mreturn\u001b[39;00m compiled_dag\n",
      "File \u001b[0;32m~/anaconda3/lib/python3.11/site-packages/ray/dag/compiled_dag_node.py:1224\u001b[0m, in \u001b[0;36mCompiledDAG._get_or_compile\u001b[0;34m(self)\u001b[0m\n\u001b[1;32m   1219\u001b[0m             reader_and_node_list\u001b[38;5;241m.\u001b[39mappend(\n\u001b[1;32m   1220\u001b[0m                 (reader_handle, \u001b[38;5;28mself\u001b[39m\u001b[38;5;241m.\u001b[39m_get_node_id(reader_handle))\n\u001b[1;32m   1221\u001b[0m             )\n\u001b[1;32m   1222\u001b[0m         reader_handles_set\u001b[38;5;241m.\u001b[39madd(reader_handle)\n\u001b[1;32m   1223\u001b[0m     task\u001b[38;5;241m.\u001b[39moutput_channels \u001b[38;5;241m=\u001b[39m [\n\u001b[0;32m-> 1224\u001b[0m         \u001b[43mdo_allocate_channel\u001b[49m\u001b[43m(\u001b[49m\n\u001b[1;32m   1225\u001b[0m \u001b[43m            \u001b[49m\u001b[38;5;28;43mself\u001b[39;49m\u001b[43m,\u001b[49m\n\u001b[1;32m   1226\u001b[0m \u001b[43m            \u001b[49m\u001b[43mreader_and_node_list\u001b[49m\u001b[43m,\u001b[49m\n\u001b[1;32m   1227\u001b[0m \u001b[43m            \u001b[49m\u001b[43mtyp\u001b[49m\u001b[38;5;241;43m=\u001b[39;49m\u001b[43mtype_hint\u001b[49m\u001b[43m,\u001b[49m\n\u001b[1;32m   1228\u001b[0m \u001b[43m        \u001b[49m\u001b[43m)\u001b[49m\n\u001b[1;32m   1229\u001b[0m     ]\n\u001b[1;32m   1230\u001b[0m \u001b[38;5;28;01melse\u001b[39;00m:\n\u001b[1;32m   1231\u001b[0m     \u001b[38;5;28;01massert\u001b[39;00m \u001b[38;5;28misinstance\u001b[39m(task\u001b[38;5;241m.\u001b[39mdag_node, InputAttributeNode) \u001b[38;5;129;01mor\u001b[39;00m \u001b[38;5;28misinstance\u001b[39m(\n\u001b[1;32m   1232\u001b[0m         task\u001b[38;5;241m.\u001b[39mdag_node, MultiOutputNode\n\u001b[1;32m   1233\u001b[0m     )\n",
      "File \u001b[0;32m~/anaconda3/lib/python3.11/site-packages/ray/dag/compiled_dag_node.py:86\u001b[0m, in \u001b[0;36mdo_allocate_channel\u001b[0;34m(self, reader_and_node_list, typ)\u001b[0m\n\u001b[1;32m     82\u001b[0m \u001b[38;5;28;01mexcept\u001b[39;00m \u001b[38;5;167;01mRuntimeError\u001b[39;00m:\n\u001b[1;32m     83\u001b[0m     \u001b[38;5;66;03m# This is the driver so there is no current actor handle.\u001b[39;00m\n\u001b[1;32m     84\u001b[0m     \u001b[38;5;28;01mpass\u001b[39;00m\n\u001b[0;32m---> 86\u001b[0m output_channel \u001b[38;5;241m=\u001b[39m \u001b[43mtyp\u001b[49m\u001b[38;5;241;43m.\u001b[39;49m\u001b[43mcreate_channel\u001b[49m\u001b[43m(\u001b[49m\n\u001b[1;32m     87\u001b[0m \u001b[43m    \u001b[49m\u001b[43mself_actor\u001b[49m\u001b[43m,\u001b[49m\n\u001b[1;32m     88\u001b[0m \u001b[43m    \u001b[49m\u001b[43mreader_and_node_list\u001b[49m\u001b[43m,\u001b[49m\n\u001b[1;32m     89\u001b[0m \u001b[43m\u001b[49m\u001b[43m)\u001b[49m\n\u001b[1;32m     90\u001b[0m \u001b[38;5;28;01mreturn\u001b[39;00m output_channel\n",
      "File \u001b[0;32m~/anaconda3/lib/python3.11/site-packages/ray/experimental/channel/shared_memory_channel.py:136\u001b[0m, in \u001b[0;36mSharedMemoryType.create_channel\u001b[0;34m(self, writer, reader_and_node_list)\u001b[0m\n\u001b[1;32m    126\u001b[0m         cpu_data_typ \u001b[38;5;241m=\u001b[39m SharedMemoryType(\n\u001b[1;32m    127\u001b[0m             buffer_size_bytes\u001b[38;5;241m=\u001b[39m\u001b[38;5;28mself\u001b[39m\u001b[38;5;241m.\u001b[39mbuffer_size_bytes\n\u001b[1;32m    128\u001b[0m         )\n\u001b[1;32m    129\u001b[0m         \u001b[38;5;28;01mreturn\u001b[39;00m NestedTorchTensorNcclChannel(\n\u001b[1;32m    130\u001b[0m             writer,\n\u001b[1;32m    131\u001b[0m             reader_and_node_list,\n\u001b[1;32m    132\u001b[0m             gpu_data_typ\u001b[38;5;241m=\u001b[39m\u001b[38;5;28mself\u001b[39m\u001b[38;5;241m.\u001b[39m_contains_type,\n\u001b[1;32m    133\u001b[0m             cpu_data_typ\u001b[38;5;241m=\u001b[39mcpu_data_typ,\n\u001b[1;32m    134\u001b[0m         )\n\u001b[0;32m--> 136\u001b[0m \u001b[38;5;28;01mreturn\u001b[39;00m \u001b[43mCompositeChannel\u001b[49m\u001b[43m(\u001b[49m\u001b[43mwriter\u001b[49m\u001b[43m,\u001b[49m\u001b[43m \u001b[49m\u001b[43mreader_and_node_list\u001b[49m\u001b[43m)\u001b[49m\n",
      "File \u001b[0;32m~/anaconda3/lib/python3.11/site-packages/ray/experimental/channel/shared_memory_channel.py:539\u001b[0m, in \u001b[0;36mCompositeChannel.__init__\u001b[0;34m(self, writer, reader_and_node_list, _channel_dict, _channels, _writer_registered, _reader_registered)\u001b[0m\n\u001b[1;32m    536\u001b[0m \u001b[38;5;66;03m# There are some remote readers which are not the same Ray actor as the writer.\u001b[39;00m\n\u001b[1;32m    537\u001b[0m \u001b[38;5;66;03m# Create a shared memory channel for the writer and the remote readers.\u001b[39;00m\n\u001b[1;32m    538\u001b[0m \u001b[38;5;28;01mif\u001b[39;00m \u001b[38;5;28mlen\u001b[39m(remote_reader_and_node_list) \u001b[38;5;241m!=\u001b[39m \u001b[38;5;241m0\u001b[39m:\n\u001b[0;32m--> 539\u001b[0m     remote_channel \u001b[38;5;241m=\u001b[39m \u001b[43mChannel\u001b[49m\u001b[43m(\u001b[49m\u001b[38;5;28;43mself\u001b[39;49m\u001b[38;5;241;43m.\u001b[39;49m\u001b[43m_writer\u001b[49m\u001b[43m,\u001b[49m\u001b[43m \u001b[49m\u001b[43mremote_reader_and_node_list\u001b[49m\u001b[43m)\u001b[49m\n\u001b[1;32m    540\u001b[0m     \u001b[38;5;28mself\u001b[39m\u001b[38;5;241m.\u001b[39m_channels\u001b[38;5;241m.\u001b[39madd(remote_channel)\n\u001b[1;32m    541\u001b[0m     \u001b[38;5;28;01mfor\u001b[39;00m reader, _ \u001b[38;5;129;01min\u001b[39;00m remote_reader_and_node_list:\n",
      "File \u001b[0;32m~/anaconda3/lib/python3.11/site-packages/ray/experimental/channel/shared_memory_channel.py:236\u001b[0m, in \u001b[0;36mChannel.__init__\u001b[0;34m(self, writer, reader_and_node_list, typ, _writer_node_id, _reader_node_id, _writer_ref, _reader_ref, _writer_registered, _reader_registered)\u001b[0m\n\u001b[1;32m    234\u001b[0m         prev_reader_node \u001b[38;5;241m=\u001b[39m node\n\u001b[1;32m    235\u001b[0m     \u001b[38;5;28;01melif\u001b[39;00m prev_reader_node \u001b[38;5;241m!=\u001b[39m node:\n\u001b[0;32m--> 236\u001b[0m         \u001b[38;5;28;01mraise\u001b[39;00m \u001b[38;5;167;01mValueError\u001b[39;00m(\n\u001b[1;32m    237\u001b[0m             \u001b[38;5;124mf\u001b[39m\u001b[38;5;124m\"\u001b[39m\u001b[38;5;124mAll reader actors must be on the same node. Actor \u001b[39m\u001b[38;5;124m\"\u001b[39m\n\u001b[1;32m    238\u001b[0m             \u001b[38;5;124mf\u001b[39m\u001b[38;5;124m\"\u001b[39m\u001b[38;5;132;01m{\u001b[39;00mprev_reader\u001b[38;5;132;01m}\u001b[39;00m\u001b[38;5;124m is on node \u001b[39m\u001b[38;5;132;01m{\u001b[39;00mprev_reader_node\u001b[38;5;132;01m}\u001b[39;00m\u001b[38;5;124m while actor \u001b[39m\u001b[38;5;124m\"\u001b[39m\n\u001b[1;32m    239\u001b[0m             \u001b[38;5;124mf\u001b[39m\u001b[38;5;124m\"\u001b[39m\u001b[38;5;132;01m{\u001b[39;00mreader\u001b[38;5;132;01m}\u001b[39;00m\u001b[38;5;124m is on node \u001b[39m\u001b[38;5;132;01m{\u001b[39;00mnode\u001b[38;5;132;01m}\u001b[39;00m\u001b[38;5;124m.\u001b[39m\u001b[38;5;124m\"\u001b[39m\n\u001b[1;32m    240\u001b[0m         )\n\u001b[1;32m    241\u001b[0m     prev_reader \u001b[38;5;241m=\u001b[39m reader\n\u001b[1;32m    243\u001b[0m \u001b[38;5;28mself\u001b[39m\u001b[38;5;241m.\u001b[39m_writer_node_id \u001b[38;5;241m=\u001b[39m (\n\u001b[1;32m    244\u001b[0m     ray\u001b[38;5;241m.\u001b[39mruntime_context\u001b[38;5;241m.\u001b[39mget_runtime_context()\u001b[38;5;241m.\u001b[39mget_node_id()\n\u001b[1;32m    245\u001b[0m )\n",
      "\u001b[0;31mValueError\u001b[0m: All reader actors must be on the same node. Actor Actor(EchoActor, 6bc658b0e62fff026a6734a106000000) is on node 664d4480a4b87323a60cbb7e0cbf6c03f7f3a7f8ed65b9a2efb3bc67 while actor Actor(EchoActor, 5fe6e767b52538996021b72006000000) is on node 3d431779794ccc040744af2e893751f59e8163e5a3ece710c46c29e9."
     ]
    }
   ],
   "source": [
    "# Send a message and get a response\n",
    "msg_ref = a.echo.remote(\"hello\")\n",
    "msg_ref = b.echo.remote(msg_ref)\n",
    "print(ray.get(msg_ref))  # Expected output: \"hello\"\n",
    "## 3. Using Ray aDAGs for Performance Optimization\n",
    "\n",
    "# Note: Transition to slides to explain \"How Ray Core traditionally executes tasks\" \n",
    "# and \"Challenges with dynamic control flow\" (discuss overheads with serialization and object store).\n",
    "# Step 3: Define and Execute with Ray DAG API (Classic Ray Core)\n",
    "import ray.dag\n",
    "import time\n",
    "\n",
    "# Define a lazy DAG\n",
    "with ray.dag.InputNode() as inp:\n",
    "    intermediate_inp = a.echo.bind(inp)\n",
    "    dag = b.echo.bind(intermediate_inp)\n",
    "# Execute the DAG with inputs\n",
    "print(ray.get(dag.execute(\"hello\")))\n",
    "print(ray.get(dag.execute(\"world\")))\n",
    "# Time the execution\n",
    "for _ in range(5):\n",
    "    start = time.perf_counter()\n",
    "    ray.get(dag.execute(\"hello\"))\n",
    "    print(\"Took\", time.perf_counter() - start)\n",
    "## 4. Optimizing with Ray aDAGs\n",
    "\n",
    "# Step 4: Compile and Execute with aDAG Backend\n",
    "# Compile the DAG for aDAG backend\n",
    "\n",
    "adag = dag.experimental_compile()\n",
    "# Execute the aDAG and measure the time\n",
    "for _ in range(5):\n",
    "    start = time.perf_counter()\n",
    "    ray.get(adag.execute(\"hello\"))\n",
    "    print(\"Took\", time.perf_counter() - start)\n",
    "# Tear down the DAG\n",
    "adag.teardown()\n",
    "\n",
    "## 5. [BONUS #1] Multi-Actor Execution in Ray aDAG\n",
    "\n",
    "# Step 5: Executing Across Multiple Actors with Ray aDAG\n",
    "# Create multiple actors\n",
    "N = 3\n",
    "actors = [EchoActor.remote() for _ in range(N)]\n",
    "# Define the DAG with multiple outputs\n",
    "with ray.dag.InputNode() as inp:\n",
    "    outputs = [actor.echo.bind(inp) for actor in actors]\n",
    "    dag = ray.dag.MultiOutputNode(outputs)\n",
    "# Compile and execute the DAG\n",
    "adag = dag.experimental_compile()\n",
    "print(ray.get(adag.execute(\"hello\")))  # Expected: [\"hello\", \"hello\", \"hello\"]\n",
    "# Tear down the DAG\n",
    "adag.teardown()\n",
    "\n",
    "## 6. [BONUS #2] GPU-GPU Communication with aDAGs\n",
    "\n",
    "# Note: Transition to slides to discuss \"GPU-GPU communication and NCCL\".\n",
    "\n",
    "# Step 6: GPU to GPU Data Transfer Example\n",
    "import torch\n",
    "from ray.experimental.channel.torch_tensor_type import TorchTensorType\n",
    "\n",
    "@ray.remote(num_gpus=1)\n",
    "class GPUSender:\n",
    "    def send(self, shape):\n",
    "        return torch.zeros(shape, device=\"cuda\")\n",
    "@ray.remote(num_gpus=1)\n",
    "class GPUReceiver:\n",
    "    def recv(self, tensor: torch.Tensor):\n",
    "        assert tensor.device.type == \"cuda\"\n",
    "        return tensor.shape\n",
    "# Create the sender and receiver actors\n",
    "sender = GPUSender.remote()\n",
    "receiver = GPUReceiver.remote()\n",
    "# Define and compile a DAG for GPU-GPU communication\n",
    "with ray.dag.InputNode() as inp:\n",
    "    dag = sender.send.bind(inp)\n",
    "    dag = dag.with_type_hint(TorchTensorType())\n",
    "    dag = receiver.recv.bind(dag)\n",
    "adag = dag.experimental_compile()\n",
    "# Execute the DAG and check the results\n",
    "assert ray.get(adag.execute((10, ))) == (10, )\n",
    "adag.teardown()\n",
    "\n",
    "#"
   ]
  },
  {
   "cell_type": "code",
   "execution_count": null,
   "id": "2318fda6",
   "metadata": {},
   "outputs": [],
   "source": [
    "# 7. Conclusion and Summary\n",
    "# Note: Transition to slides for summarizing key takeaways and discussing \n",
    "# limitations of aDAGs (e.g., actor constraints, NCCL)."
   ]
  },
  {
   "cell_type": "code",
   "execution_count": null,
   "id": "7b02de4b-d992-40ca-bec9-a314205beac4",
   "metadata": {},
   "outputs": [],
   "source": []
  },
  {
   "cell_type": "code",
   "execution_count": null,
   "id": "b67f3be8-84ca-4000-bd37-620a5587a631",
   "metadata": {},
   "outputs": [],
   "source": []
  }
 ],
 "metadata": {
  "kernelspec": {
   "display_name": "Python 3 (ipykernel)",
   "language": "python",
   "name": "python3"
  },
  "language_info": {
   "codemirror_mode": {
    "name": "ipython",
    "version": 3
   },
   "file_extension": ".py",
   "mimetype": "text/x-python",
   "name": "python",
   "nbconvert_exporter": "python",
   "pygments_lexer": "ipython3",
   "version": "3.11.8"
  }
 },
 "nbformat": 4,
 "nbformat_minor": 5
}
