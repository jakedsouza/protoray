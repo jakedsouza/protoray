{
 "cells": [
  {
   "cell_type": "markdown",
   "id": "82199b11-1e0a-428e-b319-9b28ea0b5abe",
   "metadata": {},
   "source": [
    "# Ray Core: Design Patterns, Anti-patterns and Best Practices\n",
    "\n",
    "Ray has a myriad of design patterns for tasks and actors: https://docs.ray.io/en/latest/ray-core/patterns/index.html\n",
    "\n",
    "These patterns allows you to write distributed applications. In this tutorial we'll explore one of the design pattern, commonly used in Ray libraries to scale workloads.\n",
    "\n",
    "The patterns suggest best practices to you to write distributed applications. By contrast, the anti-patterns are advice and admonitions for you to avoid pitfalls while using Ray. \n",
    "\n",
    "In this tutorial we'll explore a few of these design patterns, anti-patterns, tricks and trips first time Ray users."
   ]
  },
  {
   "cell_type": "markdown",
   "id": "e69ca38a-c2a3-4c46-9c1d-f2d49755631c",
   "metadata": {},
   "source": [
    "## Learning objectives\n",
    "\n",
    "In this this tutorial, you'll learn about:\n",
    " * Some design patterns and anti-patterns\n",
    " * Tricks and Tips to avoid when using Ray APIs"
   ]
  },
  {
   "cell_type": "code",
   "execution_count": 3,
   "id": "12ae822a-5dde-433e-a0d6-858a974f3084",
   "metadata": {},
   "outputs": [],
   "source": [
    "import logging\n",
    "import math\n",
    "import random\n",
    "import time\n",
    "from typing import List, Tuple\n",
    "\n",
    "import numpy as np\n",
    "import ray"
   ]
  },
  {
   "cell_type": "code",
   "execution_count": 4,
   "id": "21394dd7-2595-4345-bcac-fc7d2fbff101",
   "metadata": {},
   "outputs": [
    {
     "data": {
      "application/vnd.jupyter.widget-view+json": {
       "model_id": "5fc1446661af49f6ac1b7a5a9fb6dece",
       "version_major": 2,
       "version_minor": 0
      },
      "text/html": [
       "<div class=\"lm-Widget p-Widget lm-Panel p-Panel jp-Cell-outputWrapper\">\n",
       "    <div style=\"margin-left: 50px;display: flex;flex-direction: row;align-items: center\">\n",
       "        <div class=\"jp-RenderedHTMLCommon\" style=\"display: flex; flex-direction: row;\">\n",
       "  <svg viewBox=\"0 0 567 224\" fill=\"none\" xmlns=\"http://www.w3.org/2000/svg\" style=\"height: 3em;\">\n",
       "    <g clip-path=\"url(#clip0_4338_178347)\">\n",
       "        <path d=\"M341.29 165.561H355.29L330.13 129.051C345.63 123.991 354.21 112.051 354.21 94.2307C354.21 71.3707 338.72 58.1807 311.88 58.1807H271V165.561H283.27V131.661H311.8C314.25 131.661 316.71 131.501 319.01 131.351L341.25 165.561H341.29ZM283.29 119.851V70.0007H311.82C331.3 70.0007 342.34 78.2907 342.34 94.5507C342.34 111.271 331.34 119.861 311.82 119.861L283.29 119.851ZM451.4 138.411L463.4 165.561H476.74L428.74 58.1807H416L367.83 165.561H380.83L392.83 138.411H451.4ZM446.19 126.601H398L422 72.1407L446.24 126.601H446.19ZM526.11 128.741L566.91 58.1807H554.35L519.99 114.181L485.17 58.1807H472.44L514.01 129.181V165.541H526.13V128.741H526.11Z\" fill=\"var(--jp-ui-font-color0)\"/>\n",
       "        <path d=\"M82.35 104.44C84.0187 97.8827 87.8248 92.0678 93.1671 87.9146C98.5094 83.7614 105.083 81.5067 111.85 81.5067C118.617 81.5067 125.191 83.7614 130.533 87.9146C135.875 92.0678 139.681 97.8827 141.35 104.44H163.75C164.476 101.562 165.622 98.8057 167.15 96.2605L127.45 56.5605C121.071 60.3522 113.526 61.6823 106.235 60.3005C98.9443 58.9187 92.4094 54.9203 87.8602 49.0574C83.3109 43.1946 81.0609 35.8714 81.5332 28.4656C82.0056 21.0599 85.1679 14.0819 90.4252 8.8446C95.6824 3.60726 102.672 0.471508 110.08 0.0272655C117.487 -0.416977 124.802 1.86091 130.647 6.4324C136.493 11.0039 140.467 17.5539 141.821 24.8501C143.175 32.1463 141.816 39.6859 138 46.0505L177.69 85.7505C182.31 82.9877 187.58 81.4995 192.962 81.4375C198.345 81.3755 203.648 82.742 208.33 85.3976C213.012 88.0532 216.907 91.9029 219.616 96.5544C222.326 101.206 223.753 106.492 223.753 111.875C223.753 117.258 222.326 122.545 219.616 127.197C216.907 131.848 213.012 135.698 208.33 138.353C203.648 141.009 198.345 142.375 192.962 142.313C187.58 142.251 182.31 140.763 177.69 138L138 177.7C141.808 184.071 143.155 191.614 141.79 198.91C140.424 206.205 136.44 212.75 130.585 217.313C124.731 221.875 117.412 224.141 110.004 223.683C102.596 223.226 95.6103 220.077 90.3621 214.828C85.1139 209.58 81.9647 202.595 81.5072 195.187C81.0497 187.779 83.3154 180.459 87.878 174.605C92.4405 168.751 98.9853 164.766 106.281 163.401C113.576 162.035 121.119 163.383 127.49 167.19L167.19 127.49C165.664 124.941 164.518 122.182 163.79 119.3H141.39C139.721 125.858 135.915 131.673 130.573 135.826C125.231 139.98 118.657 142.234 111.89 142.234C105.123 142.234 98.5494 139.98 93.2071 135.826C87.8648 131.673 84.0587 125.858 82.39 119.3H60C58.1878 126.495 53.8086 132.78 47.6863 136.971C41.5641 141.163 34.1211 142.972 26.7579 142.059C19.3947 141.146 12.6191 137.574 7.70605 132.014C2.79302 126.454 0.0813599 119.29 0.0813599 111.87C0.0813599 104.451 2.79302 97.2871 7.70605 91.7272C12.6191 86.1673 19.3947 82.5947 26.7579 81.6817C34.1211 80.7686 41.5641 82.5781 47.6863 86.7696C53.8086 90.9611 58.1878 97.2456 60 104.44H82.35ZM100.86 204.32C103.407 206.868 106.759 208.453 110.345 208.806C113.93 209.159 117.527 208.258 120.522 206.256C123.517 204.254 125.725 201.276 126.771 197.828C127.816 194.38 127.633 190.677 126.253 187.349C124.874 184.021 122.383 181.274 119.205 179.577C116.027 177.88 112.359 177.337 108.826 178.042C105.293 178.746 102.113 180.654 99.8291 183.44C97.5451 186.226 96.2979 189.718 96.3 193.32C96.2985 195.364 96.7006 197.388 97.4831 199.275C98.2656 201.163 99.4132 202.877 100.86 204.32ZM204.32 122.88C206.868 120.333 208.453 116.981 208.806 113.396C209.159 109.811 208.258 106.214 206.256 103.219C204.254 100.223 201.275 98.0151 197.827 96.97C194.38 95.9249 190.676 96.1077 187.348 97.4873C184.02 98.8669 181.274 101.358 179.577 104.536C177.879 107.714 177.337 111.382 178.041 114.915C178.746 118.448 180.653 121.627 183.439 123.911C186.226 126.195 189.717 127.443 193.32 127.44C195.364 127.443 197.388 127.042 199.275 126.259C201.163 125.476 202.878 124.328 204.32 122.88ZM122.88 19.4205C120.333 16.8729 116.981 15.2876 113.395 14.9347C109.81 14.5817 106.213 15.483 103.218 17.4849C100.223 19.4868 98.0146 22.4654 96.9696 25.9131C95.9245 29.3608 96.1073 33.0642 97.4869 36.3922C98.8665 39.7202 101.358 42.4668 104.535 44.1639C107.713 45.861 111.381 46.4036 114.914 45.6992C118.447 44.9949 121.627 43.0871 123.911 40.301C126.195 37.515 127.442 34.0231 127.44 30.4205C127.44 28.3772 127.038 26.3539 126.255 24.4664C125.473 22.5788 124.326 20.8642 122.88 19.4205ZM19.42 100.86C16.8725 103.408 15.2872 106.76 14.9342 110.345C14.5813 113.93 15.4826 117.527 17.4844 120.522C19.4863 123.518 22.4649 125.726 25.9127 126.771C29.3604 127.816 33.0638 127.633 36.3918 126.254C39.7198 124.874 42.4664 122.383 44.1635 119.205C45.8606 116.027 46.4032 112.359 45.6988 108.826C44.9944 105.293 43.0866 102.114 40.3006 99.8296C37.5145 97.5455 34.0227 96.2983 30.42 96.3005C26.2938 96.3018 22.337 97.9421 19.42 100.86ZM100.86 100.86C98.3125 103.408 96.7272 106.76 96.3742 110.345C96.0213 113.93 96.9226 117.527 98.9244 120.522C100.926 123.518 103.905 125.726 107.353 126.771C110.8 127.816 114.504 127.633 117.832 126.254C121.16 124.874 123.906 122.383 125.604 119.205C127.301 116.027 127.843 112.359 127.139 108.826C126.434 105.293 124.527 102.114 121.741 99.8296C118.955 97.5455 115.463 96.2983 111.86 96.3005C109.817 96.299 107.793 96.701 105.905 97.4835C104.018 98.2661 102.303 99.4136 100.86 100.86Z\" fill=\"#00AEEF\"/>\n",
       "    </g>\n",
       "    <defs>\n",
       "        <clipPath id=\"clip0_4338_178347\">\n",
       "            <rect width=\"566.93\" height=\"223.75\" fill=\"white\"/>\n",
       "        </clipPath>\n",
       "    </defs>\n",
       "  </svg>\n",
       "</div>\n",
       "\n",
       "        <table class=\"jp-RenderedHTMLCommon\" style=\"border-collapse: collapse;color: var(--jp-ui-font-color1);font-size: var(--jp-ui-font-size1);\">\n",
       "    <tr>\n",
       "        <td style=\"text-align: left\"><b>Python version:</b></td>\n",
       "        <td style=\"text-align: left\"><b>3.11.8</b></td>\n",
       "    </tr>\n",
       "    <tr>\n",
       "        <td style=\"text-align: left\"><b>Ray version:</b></td>\n",
       "        <td style=\"text-align: left\"><b>2.36.0</b></td>\n",
       "    </tr>\n",
       "    <tr>\n",
       "    <td style=\"text-align: left\"><b>Dashboard:</b></td>\n",
       "    <td style=\"text-align: left\"><b><a href=\"http://session-bimi5q6im9gb2znrbq9siuvzkr.i.anyscaleuserdata.com\" target=\"_blank\">http://session-bimi5q6im9gb2znrbq9siuvzkr.i.anyscaleuserdata.com</a></b></td>\n",
       "</tr>\n",
       "\n",
       "</table>\n",
       "\n",
       "    </div>\n",
       "</div>\n"
      ],
      "text/plain": [
       "RayContext(dashboard_url='session-bimi5q6im9gb2znrbq9siuvzkr.i.anyscaleuserdata.com', python_version='3.11.8', ray_version='2.36.0', ray_commit='115e0fd7d642480f0262e3cea9596a7f37acb518')"
      ]
     },
     "execution_count": 4,
     "metadata": {},
     "output_type": "execute_result"
    },
    {
     "name": "stdout",
     "output_type": "stream",
     "text": [
      "\u001b[36m(autoscaler +6m1s)\u001b[0m Tip: use `ray status` to view detailed cluster status. To disable these messages, set RAY_SCHEDULER_EVENTS=0.\n"
     ]
    }
   ],
   "source": [
    "if ray.is_initialized:\n",
    "    ray.shutdown()\n",
    "ray.init(logging_level=logging.ERROR)"
   ]
  },
  {
   "cell_type": "markdown",
   "id": "7cecb225-55f7-4819-af07-9f45313a34f1",
   "metadata": {},
   "source": [
    "### Fetching Cluster Information\n",
    "\n",
    "Many methods return information:\n",
    "\n",
    "| Method | Brief Description |\n",
    "| :----- | :---------------- |\n",
    "| [`ray.get_gpu_ids()`](https://ray.readthedocs.io/en/latest/package-ref.html#ray.get_gpu_ids) | GPUs |\n",
    "| [`ray.nodes()`](https://ray.readthedocs.io/en/latest/package-ref.html#ray.nodes) | Cluster nodes |\n",
    "| [`ray.cluster_resources()`](https://ray.readthedocs.io/en/latest/package-ref.html#ray.cluster_resources) | All the available resources, used or not |\n",
    "| [`ray.available_resources()`](https://ray.readthedocs.io/en/latest/package-ref.html#ray.available_resources) | Resources not in use |\n",
    "\n",
    "You can see the full list of methods in the [Ray Core](https://docs.ray.io/en/latest/ray-core/api/core.html#core-api) API documention."
   ]
  },
  {
   "cell_type": "code",
   "execution_count": 5,
   "id": "b0afc77e-b195-4734-a8ac-d8c1dd8af115",
   "metadata": {},
   "outputs": [
    {
     "data": {
      "text/plain": [
       "[]"
      ]
     },
     "execution_count": 5,
     "metadata": {},
     "output_type": "execute_result"
    }
   ],
   "source": [
    "ray.get_gpu_ids()"
   ]
  },
  {
   "cell_type": "code",
   "execution_count": 6,
   "id": "0b8a63c8-8290-4da6-91f3-348c8a7b99cc",
   "metadata": {},
   "outputs": [
    {
     "data": {
      "text/plain": [
       "{'anyscale/region:us-west-2': 3.0,\n",
       " 'CPU': 32.0,\n",
       " 'anyscale/provider:aws': 3.0,\n",
       " 'accelerator_type:L4': 2.0,\n",
       " 'memory': 206158430208.0,\n",
       " 'anyscale/accelerator_shape:1xL4': 2.0,\n",
       " 'node:10.0.131.8': 1.0,\n",
       " 'object_store_memory': 57761787494.0,\n",
       " 'GPU': 2.0,\n",
       " 'node:__internal_head__': 1.0,\n",
       " 'node:10.0.138.179': 1.0,\n",
       " 'anyscale/cpu_only:true': 1.0,\n",
       " 'node:10.0.162.180': 1.0}"
      ]
     },
     "execution_count": 6,
     "metadata": {},
     "output_type": "execute_result"
    }
   ],
   "source": [
    "ray.cluster_resources()"
   ]
  },
  {
   "cell_type": "code",
   "execution_count": 7,
   "id": "4d12b1b2-aec6-4894-ae65-fe85a05a31ec",
   "metadata": {},
   "outputs": [
    {
     "data": {
      "text/plain": [
       "{'accelerator_type:L4': 2.0,\n",
       " 'node:10.0.131.8': 1.0,\n",
       " 'anyscale/region:us-west-2': 3.0,\n",
       " 'CPU': 30.0,\n",
       " 'memory': 206158430208.0,\n",
       " 'anyscale/provider:aws': 3.0,\n",
       " 'object_store_memory': 57761786861.0,\n",
       " 'anyscale/accelerator_shape:1xL4': 2.0,\n",
       " 'node:__internal_head__': 1.0,\n",
       " 'anyscale/cpu_only:true': 1.0,\n",
       " 'node:10.0.138.179': 1.0,\n",
       " 'node:10.0.162.180': 1.0}"
      ]
     },
     "execution_count": 7,
     "metadata": {},
     "output_type": "execute_result"
    }
   ],
   "source": [
    "ray.available_resources()"
   ]
  },
  {
   "cell_type": "code",
   "execution_count": 8,
   "id": "556533ac-b3c5-4af3-a0a0-9939a93bb94b",
   "metadata": {},
   "outputs": [
    {
     "data": {
      "text/plain": [
       "[{'NodeID': '309170636bdb173b4e2381d2f679c0921bf9809e9febd7e74138e1f6',\n",
       "  'Alive': True,\n",
       "  'NodeManagerAddress': '10.0.138.179',\n",
       "  'NodeManagerHostname': 'ip-10-0-138-179',\n",
       "  'NodeManagerPort': 8912,\n",
       "  'ObjectManagerPort': 8076,\n",
       "  'ObjectStoreSocketName': '/tmp/ray/session_2024-09-30_16-07-33_396908_2456/sockets/plasma_store',\n",
       "  'RayletSocketName': '/tmp/ray/session_2024-09-30_16-07-33_396908_2456/sockets/raylet',\n",
       "  'MetricsExportPort': 8085,\n",
       "  'NodeName': '10.0.138.179',\n",
       "  'RuntimeEnvAgentPort': 6827,\n",
       "  'DeathReason': 0,\n",
       "  'DeathReasonMessage': '',\n",
       "  'alive': True,\n",
       "  'Resources': {'anyscale/region:us-west-2': 1.0,\n",
       "   'node:10.0.138.179': 1.0,\n",
       "   'object_store_memory': 19209154560.0,\n",
       "   'anyscale/provider:aws': 1.0,\n",
       "   'memory': 68719476736.0,\n",
       "   'anyscale/cpu_only:true': 1.0,\n",
       "   'node:__internal_head__': 1.0},\n",
       "  'Labels': {'ray.io/node_id': '309170636bdb173b4e2381d2f679c0921bf9809e9febd7e74138e1f6'}},\n",
       " {'NodeID': '664d4480a4b87323a60cbb7e0cbf6c03f7f3a7f8ed65b9a2efb3bc67',\n",
       "  'Alive': True,\n",
       "  'NodeManagerAddress': '10.0.131.8',\n",
       "  'NodeManagerHostname': 'ip-10-0-131-8',\n",
       "  'NodeManagerPort': 8912,\n",
       "  'ObjectManagerPort': 8076,\n",
       "  'ObjectStoreSocketName': '/tmp/ray/session_2024-09-30_16-07-33_396908_2456/sockets/plasma_store',\n",
       "  'RayletSocketName': '/tmp/ray/session_2024-09-30_16-07-33_396908_2456/sockets/raylet',\n",
       "  'MetricsExportPort': 8085,\n",
       "  'NodeName': '10.0.131.8',\n",
       "  'RuntimeEnvAgentPort': 6827,\n",
       "  'DeathReason': 0,\n",
       "  'DeathReasonMessage': '',\n",
       "  'alive': True,\n",
       "  'Resources': {'node:10.0.131.8': 1.0,\n",
       "   'anyscale/accelerator_shape:1xL4': 1.0,\n",
       "   'GPU': 1.0,\n",
       "   'accelerator_type:L4': 1.0,\n",
       "   'object_store_memory': 19276435046.0,\n",
       "   'anyscale/region:us-west-2': 1.0,\n",
       "   'anyscale/provider:aws': 1.0,\n",
       "   'CPU': 16.0,\n",
       "   'memory': 68719476736.0},\n",
       "  'Labels': {'ray.io/node_id': '664d4480a4b87323a60cbb7e0cbf6c03f7f3a7f8ed65b9a2efb3bc67'}},\n",
       " {'NodeID': '3d431779794ccc040744af2e893751f59e8163e5a3ece710c46c29e9',\n",
       "  'Alive': True,\n",
       "  'NodeManagerAddress': '10.0.162.180',\n",
       "  'NodeManagerHostname': 'ip-10-0-162-180',\n",
       "  'NodeManagerPort': 8912,\n",
       "  'ObjectManagerPort': 8076,\n",
       "  'ObjectStoreSocketName': '/tmp/ray/session_2024-09-30_16-07-33_396908_2456/sockets/plasma_store',\n",
       "  'RayletSocketName': '/tmp/ray/session_2024-09-30_16-07-33_396908_2456/sockets/raylet',\n",
       "  'MetricsExportPort': 8085,\n",
       "  'NodeName': '10.0.162.180',\n",
       "  'RuntimeEnvAgentPort': 6827,\n",
       "  'DeathReason': 0,\n",
       "  'DeathReasonMessage': '',\n",
       "  'alive': True,\n",
       "  'Resources': {'anyscale/accelerator_shape:1xL4': 1.0,\n",
       "   'GPU': 1.0,\n",
       "   'node:10.0.162.180': 1.0,\n",
       "   'accelerator_type:L4': 1.0,\n",
       "   'object_store_memory': 19276197888.0,\n",
       "   'anyscale/region:us-west-2': 1.0,\n",
       "   'anyscale/provider:aws': 1.0,\n",
       "   'CPU': 16.0,\n",
       "   'memory': 68719476736.0},\n",
       "  'Labels': {'ray.io/node_id': '3d431779794ccc040744af2e893751f59e8163e5a3ece710c46c29e9'}}]"
      ]
     },
     "execution_count": 8,
     "metadata": {},
     "output_type": "execute_result"
    }
   ],
   "source": [
    "ray.nodes()"
   ]
  },
  {
   "cell_type": "code",
   "execution_count": 12,
   "id": "9eb8b34a-9fe7-4a13-ad10-b06ce38d6479",
   "metadata": {},
   "outputs": [
    {
     "data": {
      "text/plain": [
       "16.0"
      ]
     },
     "execution_count": 12,
     "metadata": {},
     "output_type": "execute_result"
    }
   ],
   "source": [
    "ray.nodes()[1]['Resources']['CPU']"
   ]
  },
  {
   "cell_type": "markdown",
   "id": "fb4eec5a-fdbd-4ecf-a8fb-90e6afde6208",
   "metadata": {},
   "source": [
    "## Tips and Tricks and Patterns and Anti-patterns for first-time users\n",
    "Because Ray's core APIs are simple and flexible, first time users can trip upon certain API calls in Ray's usage patterns. This short tips & tricks will insure you against unexpected results. Below we briefly explore a handful of API calls and their best practices."
   ]
  },
  {
   "cell_type": "markdown",
   "id": "2d0d02f8-5f28-47de-b41c-debbcdc334c9",
   "metadata": {},
   "source": [
    "### Use @ray.remote and @ray.method to return multiple arguments\n",
    "Often, you may wish to return more than a single argument from a Ray Task, or \n",
    "return more than a single value from an Ray Actor's method. \n",
    "\n",
    "Let's look at some examples how you do it."
   ]
  },
  {
   "cell_type": "code",
   "execution_count": 17,
   "id": "fd353e95-387a-4ab2-95ed-8a253a0c153a",
   "metadata": {},
   "outputs": [
    {
     "name": "stdout",
     "output_type": "stream",
     "text": [
      "Ray rocks!, 6, 13.20\n"
     ]
    }
   ],
   "source": [
    "@ray.remote(num_returns=3)\n",
    "def tuple3(id: str, lst: List[float]) -> Tuple[str, int, float]:\n",
    "    one = id.capitalize()\n",
    "    two = random.randint(5, 10)\n",
    "    three = sum(lst)\n",
    "    return (one, two, three)\n",
    "\n",
    "# Return three object references with three distinct values in each \n",
    "x_ref, y_ref, z_ref = tuple3.remote(\"ray rocks!\", [2.2, 4.4, 6.6])\n",
    "\n",
    "# Fetch the list of references\n",
    "x, y, z = ray.get([x_ref, y_ref, z_ref])\n",
    "print(f'{x}, {y}, {z:.2f}')"
   ]
  },
  {
   "cell_type": "markdown",
   "id": "7fd79f4e-cd78-4888-9cc2-bfe34e3e73bb",
   "metadata": {},
   "source": [
    "A slight variation of the above example is pack all values in a single return, and then unpack them."
   ]
  },
  {
   "cell_type": "code",
   "execution_count": 18,
   "id": "23334d0e-9850-46ad-9d05-1fc0e130a7d7",
   "metadata": {},
   "outputs": [
    {
     "name": "stdout",
     "output_type": "stream",
     "text": [
      "(Ray rocks!, 10, 13.20)\n"
     ]
    }
   ],
   "source": [
    "@ray.remote(num_returns=1)\n",
    "def tuple3_packed(id: str, lst: List[float]) -> Tuple[str, int, float]:\n",
    "    one = id.capitalize()\n",
    "    two = random.randint(5, 10)\n",
    "    three = sum(lst)\n",
    "    return (one, two, three)\n",
    "\n",
    "# Returns one object references with three values in it\n",
    "xyz_ref = tuple3_packed.remote(\"ray rocks!\", [2.2, 4.4, 6.6])\n",
    "\n",
    "# Fetch from a single object ref and unpack into three values\n",
    "x, y, z = ray.get(xyz_ref)\n",
    "print(f'({x}, {y}, {z:.2f})')"
   ]
  },
  {
   "cell_type": "markdown",
   "id": "77043af0-ec9c-491c-a455-3d550efe8fb0",
   "metadata": {},
   "source": [
    "Let's do the same for an Ray actor method, except here\n",
    "we are using a decorator `@ray.method(num_returns=3)` to decorate\n",
    "a Ray actor's method."
   ]
  },
  {
   "cell_type": "code",
   "execution_count": 19,
   "id": "be970c8f-63f8-48c1-8b41-b25ef815adab",
   "metadata": {},
   "outputs": [
    {
     "name": "stdout",
     "output_type": "stream",
     "text": [
      "(Ray rocks!, 7, 12.10)\n"
     ]
    }
   ],
   "source": [
    "@ray.remote\n",
    "class TupleActor:\n",
    "    @ray.method(num_returns=3)\n",
    "    def tuple3(self, id: str, lst: List[float]) -> Tuple[str, int, float]:\n",
    "        one = id.capitalize()\n",
    "        two = random.randint(5, 10)\n",
    "        three = sum(lst)\n",
    "        return (one, two, three)\n",
    "    \n",
    "# Create an instance of an actor\n",
    "actor = TupleActor.remote()\n",
    "x_ref, y_ref, z_ref = actor.tuple3.remote(\"ray rocks!\", [2.2, 4.4, 5.5])\n",
    "x, y, z = ray.get([x_ref, y_ref, z_ref])\n",
    "print(f'({x}, {y}, {z:.2f})')   "
   ]
  },
  {
   "cell_type": "markdown",
   "id": "4a56c554-425e-44ee-a6a4-1a754331025f",
   "metadata": {},
   "source": [
    "### Anti-pattern: Calling ray.get in a loop harms parallelism\n",
    "\n",
    "With Ray, all invocations of `.remote()` calls are asynchronous, meaning the operation returns immediately with a promise/future object Reference ID. This is key to achieving massive parallelism, for it allows a devloper to launch many remote tasks, each returning a remote future object ID. Whenever needed, this object ID is fetched with `ray.get.` Because `ray.get` is a blocking call, where and how often you use can affect the performance of your Ray application.\n",
    "\n",
    "**TLDR**: Avoid calling `ray.get()` in a loop since it’s a blocking call; use `ray.get()` only for the final result.\n",
    "\n",
    "\n",
    "<img src=\"https://technical-training-assets.s3.us-west-2.amazonaws.com/Ray_Core/ray-get-loop.png\" height=\"70%\" width=\"70%\">"
   ]
  },
  {
   "cell_type": "code",
   "execution_count": 20,
   "id": "cb62c5e3-8834-4574-be25-eea7cd17b58f",
   "metadata": {},
   "outputs": [],
   "source": [
    "@ray.remote\n",
    "def do_some_work(x):\n",
    "    # Assume doing some computation\n",
    "    time.sleep(0.5)\n",
    "    return math.exp(x)"
   ]
  },
  {
   "cell_type": "markdown",
   "id": "10c0c73c-acc8-45eb-9a36-a21880a7bb1f",
   "metadata": {},
   "source": [
    "#### Bad usage\n",
    "We use `ray.get` inside a list comprehension loop, hence it blocks on each call of `.remote()`, delaying until the task is finished and the value\n",
    "is materialized and fetched from the Ray object store."
   ]
  },
  {
   "cell_type": "code",
   "execution_count": 21,
   "id": "0b09cd56-70ca-478d-9ac0-f7cca535db99",
   "metadata": {},
   "outputs": [
    {
     "name": "stdout",
     "output_type": "stream",
     "text": [
      "CPU times: user 67.3 ms, sys: 24.6 ms, total: 91.9 ms\n",
      "Wall time: 12.6 s\n"
     ]
    },
    {
     "data": {
      "text/plain": [
       "[1.0,\n",
       " 2.718281828459045,\n",
       " 7.38905609893065,\n",
       " 20.085536923187668,\n",
       " 54.598150033144236]"
      ]
     },
     "execution_count": 21,
     "metadata": {},
     "output_type": "execute_result"
    }
   ],
   "source": [
    "%%time\n",
    "results = [ray.get(do_some_work.remote(x)) for x in range(25)]\n",
    "results[:5]"
   ]
  },
  {
   "cell_type": "markdown",
   "id": "d5a6e94d-2b44-4a33-85fa-a717f4087976",
   "metadata": {},
   "source": [
    "#### Good usage\n",
    "We delay `ray.get` after all the tasks have been invoked and their references have been returned. That is, we don't block on each call but instead do outside the comprehension loop.\n"
   ]
  },
  {
   "cell_type": "code",
   "execution_count": 22,
   "id": "5bc26807-64a5-40fa-982e-96d9e7aaf08f",
   "metadata": {},
   "outputs": [
    {
     "name": "stdout",
     "output_type": "stream",
     "text": [
      "CPU times: user 42.7 ms, sys: 13.1 ms, total: 55.8 ms\n",
      "Wall time: 2.33 s\n"
     ]
    },
    {
     "data": {
      "text/plain": [
       "[1.0,\n",
       " 2.718281828459045,\n",
       " 7.38905609893065,\n",
       " 20.085536923187668,\n",
       " 54.598150033144236]"
      ]
     },
     "execution_count": 22,
     "metadata": {},
     "output_type": "execute_result"
    }
   ],
   "source": [
    "%%time\n",
    "results = ray.get([do_some_work.remote(x) for x in range(25)])\n",
    "results[:5]"
   ]
  },
  {
   "cell_type": "markdown",
   "id": "e94a62d0-b9a7-4e52-b334-57f75e84f823",
   "metadata": {},
   "source": [
    "### Anti-pattern: Over-parallelizing with too fine-grained tasks harms speedup\n",
    "\n",
    "Ray APIs are general and simple to use. As a result, new comers' natural instinct is to parallelize all tasks, including tiny ones, which can incur an overhead over time. In short, if the Ray remote tasks are tiny or miniscule in compute, they may take longer to execute than their serial Python equivalents.\n",
    "\n",
    "**TLDR**: Where possible strive to batch tiny smaller Ray tasks into chuncks to reap the benefits of distributing them."
   ]
  },
  {
   "cell_type": "code",
   "execution_count": 23,
   "id": "5c637e9d-077f-4e3d-961b-e2de1b04a852",
   "metadata": {},
   "outputs": [],
   "source": [
    "# Using regular Python task that returns double of the number\n",
    "def tiny_task(x):\n",
    "    time.sleep(0.00001)\n",
    "    return 2 * x"
   ]
  },
  {
   "cell_type": "markdown",
   "id": "0b51e94b-3cc6-4936-9fa3-e66ab75f4142",
   "metadata": {},
   "source": [
    "Run this as a regular sequential Python task."
   ]
  },
  {
   "cell_type": "code",
   "execution_count": 24,
   "id": "7448351a-cbf5-4f20-ad45-c75e94814469",
   "metadata": {},
   "outputs": [
    {
     "name": "stdout",
     "output_type": "stream",
     "text": [
      "Ordinary funciton call takes 6.65 seconds\n"
     ]
    }
   ],
   "source": [
    "start_time = time.time()\n",
    "results = [tiny_task(x) for x in range(100000)]\n",
    "end_time = time.time()\n",
    "print(f\"Ordinary funciton call takes {end_time - start_time:.2f} seconds\")"
   ]
  },
  {
   "cell_type": "code",
   "execution_count": 25,
   "id": "846e2594-cb9a-40ff-a797-8217f899f1cc",
   "metadata": {},
   "outputs": [
    {
     "data": {
      "text/plain": [
       "([0, 2, 4, 6, 8], 100000)"
      ]
     },
     "execution_count": 25,
     "metadata": {},
     "output_type": "execute_result"
    }
   ],
   "source": [
    "results[:5], len(results)"
   ]
  },
  {
   "cell_type": "markdown",
   "id": "2659ea3d-09f8-405e-96db-6faa8fb963b1",
   "metadata": {},
   "source": [
    "Now convert this into Ray remote task"
   ]
  },
  {
   "cell_type": "code",
   "execution_count": 26,
   "id": "53cba8d7-513b-4682-9382-007984b93ed0",
   "metadata": {},
   "outputs": [],
   "source": [
    "@ray.remote\n",
    "def remote_tiny_task(x):\n",
    "    time.sleep(0.00001)\n",
    "    return 2 * x"
   ]
  },
  {
   "cell_type": "code",
   "execution_count": 27,
   "id": "ccdd5b0a-a9b2-41ff-8086-24c426682e45",
   "metadata": {},
   "outputs": [
    {
     "name": "stdout",
     "output_type": "stream",
     "text": [
      "Parallelizing Ray tasks takes 15.88 seconds\n"
     ]
    }
   ],
   "source": [
    "start_time = time.time()\n",
    "result_ids = [remote_tiny_task.remote(x) for x in range(100000)]\n",
    "results = ray.get(result_ids)\n",
    "end_time = time.time()\n",
    "print(f\"Parallelizing Ray tasks takes {end_time - start_time:.2f} seconds\")"
   ]
  },
  {
   "cell_type": "code",
   "execution_count": 28,
   "id": "66e28ba8-cfc7-459b-bad4-a8995e7f702e",
   "metadata": {},
   "outputs": [
    {
     "data": {
      "text/plain": [
       "([0, 2, 4, 6, 8], 100000)"
      ]
     },
     "execution_count": 28,
     "metadata": {},
     "output_type": "execute_result"
    }
   ],
   "source": [
    "results[:5], len(results)"
   ]
  },
  {
   "cell_type": "markdown",
   "id": "c91612f6-e5d1-48c2-9916-e948b9256e19",
   "metadata": {},
   "source": [
    "Surprisingly, Ray didn’t improve the execution time. In fact, Ray program is actually much slower in execution time than the sequential program! \n",
    "\n",
    "_What's going on?_ \n",
    "\n",
    "Well, the issue here is that every task invocation has a non-trivial overhead (e.g., scheduling, inter-process communication, updating the system state), and this overhead dominates the actual time it takes to execute the task.\n",
    "\n",
    "_What can we do to remedy it?_\n",
    "\n",
    "One way to mitigate is to make the remote tasks \"larger\" in order to amortize invocation overhead. This is achieved by aggregating tasks into bigger chunks of 1000.\n",
    "\n",
    "**Better approach**: Use batching or chunking\n"
   ]
  },
  {
   "cell_type": "code",
   "execution_count": 29,
   "id": "6f9d88df-42e3-4cef-af52-a0d5af798767",
   "metadata": {},
   "outputs": [],
   "source": [
    "@ray.remote\n",
    "def mega_work(start, end):\n",
    "    return [tiny_task(x) for x in range(start, end)]"
   ]
  },
  {
   "cell_type": "code",
   "execution_count": 30,
   "id": "55a84420-ce3c-4915-8ce3-ca74442f0006",
   "metadata": {},
   "outputs": [
    {
     "name": "stdout",
     "output_type": "stream",
     "text": [
      "Parallelizing Ray tasks as batches takes 0.30 seconds\n"
     ]
    }
   ],
   "source": [
    "result_ids = []\n",
    "start_time = time.time()\n",
    "\n",
    "[result_ids.append(mega_work.remote(x*1000, (x+1)*1000)) for x in range(100)]\n",
    "# fetch the finihsed results\n",
    "results = ray.get(result_ids)\n",
    "end_time = time.time()\n",
    "\n",
    "print(f\"Parallelizing Ray tasks as batches takes {end_time - start_time:.2f} seconds\")"
   ]
  },
  {
   "cell_type": "markdown",
   "id": "77f66e0d-028b-444e-975e-06ff86be4b2e",
   "metadata": {},
   "source": [
    "A huge difference in execution time!\n",
    "\n",
    "Breaking or restructuring many small tasks into batches or chunks of large Ray remote tasks, as demonstrated above, achieves significant performance gain."
   ]
  },
  {
   "cell_type": "markdown",
   "id": "d973062d-2d9b-44ea-bd68-ce849b387d01",
   "metadata": {},
   "source": [
    "### Pattern: Using ray.wait to limit the number of pending tasks\n",
    "\n",
    "| Name | Argument Type |  Description |\n",
    "| :--- | :---     |  :---------- |\n",
    "| `ray.get()`     | `ObjectRef` or `List[ObjectRefs]`   | Return a value in the object ref or list of values from the object IDs. This is a synchronous (i.e., blocking) operation. |\n",
    "| `ray.wait()`    | `List[ObjectRefs]`  | From a list of object IDs, returns (1) the list of IDs of the objects that are ready, and (2) the list of IDs of the objects that are not ready yet. By default, it returns one ready object ID at a time. However, by specifying `num_returns=<value>` it will return all object IDs whose tasks are finished and there respective values materialized and available in the object store. |\n",
    "\n",
    "\n",
    "As we noted above, an idiomatic way of using `ray.get()` is to delay fetching the object until you need them. Another way is to use it is with `ray.wait()`. Only fetch values that are already available or materialized in the object store. This is a way to [pipeline the execution](https://docs.ray.io/en/latest/ray-core/tips-for-first-time.html#tip-4-pipeline-data-processing), especially when you want to process the results of completed Ray tasks as soon as they are available.\n",
    "\n",
    "|<img src=\"https://technical-training-assets.s3.us-west-2.amazonaws.com/Ray_Core/core-data-pipeline.png\" height=\"40%\" width=\"60%\">|\n",
    "|:--|\n",
    "|Execution timeline in both cases: when using `ray.get()` to wait for all results to become available before processing them, and using `ray.wait()` to start processing the results as soon as they become available.|\n",
    "\n",
    "\n",
    "If we use `ray.get()` on the results of multiple tasks we will have to wait until the last one of these tasks finishes. This can be an issue if tasks take widely different amounts of time.\n",
    "\n",
    "To illustrate this issue, consider the following example where we run four `transform_images()` tasks in parallel, with each task taking a time uniformly distributed between 0 and 4 seconds. Next, assume the results of these tasks are processed by `classify_images()`, which takes 1 sec per result. The expected running time is then (1) the time it takes to execute the slowest of the `transform_images()` tasks, plus (2) 4 seconds which is the time it takes to execute `classify_images()`.\n",
    "\n",
    "Let's look at a simple example."
   ]
  },
  {
   "cell_type": "code",
   "execution_count": null,
   "id": "e89e9961-b804-4b83-a06e-355a8bf699f0",
   "metadata": {},
   "outputs": [],
   "source": [
    "from PIL import Image, ImageFilter"
   ]
  },
  {
   "cell_type": "code",
   "execution_count": null,
   "id": "7434b9a0-480a-473e-9bb7-573713887634",
   "metadata": {},
   "outputs": [],
   "source": [
    "random.seed(42)"
   ]
  },
  {
   "cell_type": "code",
   "execution_count": null,
   "id": "591854db-ef49-47f2-ac6c-7e27ed229187",
   "metadata": {},
   "outputs": [],
   "source": [
    "import time\n",
    "import random\n",
    "import ray\n",
    "\n",
    "@ray.remote\n",
    "def transform_images(x):\n",
    "    imarray = np.random.rand(x, x , 3) * 255\n",
    "    img = Image.fromarray(imarray.astype('uint8')).convert('RGBA')\n",
    "    \n",
    "    # Make the image blur with specified intensify\n",
    "    img = img.filter(ImageFilter.GaussianBlur(radius=20))\n",
    "    \n",
    "    time.sleep(random.uniform(0, 4)) # Replace this with extra work you need to do.\n",
    "    return img\n",
    "\n",
    "def predict(image):\n",
    "    size = image.size[0]\n",
    "    if size == 16 or size == 32:\n",
    "        return 0\n",
    "    elif size == 64 or size == 128:\n",
    "        return 1\n",
    "    elif size == 256:\n",
    "        return 2\n",
    "    else:\n",
    "        return 3\n",
    "\n",
    "def classify_images(images):\n",
    "    preds = []\n",
    "    for image in images:\n",
    "        pred = predict(image)\n",
    "        time.sleep(1)\n",
    "        preds.append(pred)\n",
    "    return preds\n",
    "\n",
    "def classify_images_inc(images):\n",
    "    preds = [predict(img) for img in images]\n",
    "    time.sleep(1)\n",
    "    return preds\n",
    "\n",
    "SIZES = [16, 32, 64, 128, 256, 512]"
   ]
  },
  {
   "cell_type": "markdown",
   "id": "296293e7-ddac-4f65-9236-4864c7152af3",
   "metadata": {},
   "source": [
    "#### Not using ray.wait and no pipelining"
   ]
  },
  {
   "cell_type": "code",
   "execution_count": null,
   "id": "50ee0fce-9dc5-4cfa-94ba-4141831fe2d5",
   "metadata": {},
   "outputs": [],
   "source": [
    "start = time.time()\n",
    "# Transform the images first and then get the images\n",
    "images = ray.get([transform_images.remote(image) for image in SIZES])\n",
    "\n",
    "# After all images are transformed, classify them\n",
    "predictions = classify_images(images)\n",
    "print(f\"Duration without pipelining: {round(time.time() - start, 2)} seconds; predictions: {predictions}\")"
   ]
  },
  {
   "cell_type": "markdown",
   "id": "0620caab-4184-4a2e-8ca2-e1c9cd72e7bc",
   "metadata": {},
   "source": [
    "#### Using ray.wait and pipelining"
   ]
  },
  {
   "cell_type": "code",
   "execution_count": null,
   "id": "4542c25a-df3b-419c-b7d2-c225391dc23c",
   "metadata": {},
   "outputs": [],
   "source": [
    "start = time.time()\n",
    "result_images_refs = [transform_images.remote(image) for image in SIZES] \n",
    "predictions = []\n",
    "\n",
    "# Loop until all tasks are finished\n",
    "while len(result_images_refs):\n",
    "    done_image_refs, result_images_refs = ray.wait(result_images_refs, num_returns=1)\n",
    "    preds = classify_images_inc(ray.get(done_image_refs))\n",
    "    predictions.extend(preds)\n",
    "print(f\"Duration with pipelining: {round(time.time() - start, 2)} seconds; predictions: {predictions}\")"
   ]
  },
  {
   "cell_type": "markdown",
   "id": "06c2203b-70e7-4c83-92bb-d192c29a05d0",
   "metadata": {},
   "source": [
    "**Notice**: You get some incremental difference. However, for compute intensive and many tasks, and over time, this difference will be in order of magnitude.\n",
    "\n",
    "For large number of tasks in flight, use `ray.get()` and `ray.wait()` to implement pipeline execution of processing completed tasks.\n",
    "\n",
    "**TLDR**: Use pipeline execution to process results returned from the finished Ray tasks using `ray.get()` and `ray.wait()`"
   ]
  },
  {
   "cell_type": "markdown",
   "id": "7ec0dc75-21d9-4f10-ad2e-d4b14da8aa27",
   "metadata": {},
   "source": [
    "#### Exercise for Pipelining:\n",
    " * Extend or add more images of sizes: 1024, 2048, ...\n",
    " * Increase the number of returns to 2, 3, or 4 from the `ray.wait`()`\n",
    " * Process the images\n",
    " \n",
    " Is there a difference in processing time between serial and pipelining?"
   ]
  },
  {
   "cell_type": "markdown",
   "id": "d6fd8952-519c-4e71-8281-7eaca52a092c",
   "metadata": {},
   "source": [
    "### Anti-pattern: Passing the same large argument by value repeatedly harms performance\n",
    "\n",
    "When passing a large argument (>100KB) by value to a task, Ray will implicitly store the argument in the object store and the worker process will fetch the argument to the local object store from the caller’s object store before running the task. If we pass the same large argument to multiple tasks, Ray will end up storing multiple copies of the argument in the object store since Ray doesn’t do deduplication.\n",
    "\n",
    "Instead of passing the large argument by value to multiple tasks, we should use `ray.put()` to store the argument to the object store once and get an ObjectRef, then pass the argument reference to tasks. This way, we make sure all tasks use the same copy of the argument, which is faster and uses less object store memory.\n",
    "\n",
    "**TLDR**: Avoid passing the same large argument by value to multiple tasks, use ray.put() and pass by reference instead."
   ]
  },
  {
   "cell_type": "code",
   "execution_count": null,
   "id": "c9fb9d2a-032e-44f5-a0f0-a82755ac5f68",
   "metadata": {},
   "outputs": [],
   "source": [
    "@ray.remote\n",
    "def do_work(a):\n",
    "    # do some work with the large object a\n",
    "    return np.sum(a)"
   ]
  },
  {
   "cell_type": "markdown",
   "id": "17ce457d-7b8d-4467-a661-1e1d52862c5d",
   "metadata": {},
   "source": [
    "Bad Usage"
   ]
  },
  {
   "cell_type": "code",
   "execution_count": null,
   "id": "f744cbad-f58c-4206-9f0a-b63185b74aa8",
   "metadata": {},
   "outputs": [],
   "source": [
    "random.seed(42)\n",
    "\n",
    "start = time.time()\n",
    "a = np.random.rand(5000, 5000)\n",
    "\n",
    "# Sending the big array to each remote task, which will\n",
    "# its copy of the same data into its object store\n",
    "result_ids = [do_work.remote(a) for x in range(10)]\n",
    "\n",
    "results = math.fsum(ray.get(result_ids))\n",
    "print(f\" results = {results:.2f} and duration = {time.time() - start:.3f} sec\")"
   ]
  },
  {
   "cell_type": "markdown",
   "id": "e3cefdff-bb83-4803-8c6d-7f2c7e5c5e9d",
   "metadata": {},
   "source": [
    "**Better approach**: Put the value in the object store and only send the reference"
   ]
  },
  {
   "cell_type": "code",
   "execution_count": null,
   "id": "eab448fa-8da4-4434-8b75-bd80b5db68e7",
   "metadata": {},
   "outputs": [],
   "source": [
    "start = time.time()\n",
    "# Adding the big array into the object store\n",
    "a_id_ref = ray.put(a)\n",
    "\n",
    "# Now send the objectID ref\n",
    "result_ids = [do_work.remote(a_id_ref) for x in range(10)]\n",
    "results = math.fsum(ray.get(result_ids))\n",
    "print(f\" results = {results:.2f} and duration = {time.time() - start:.3f} sec\")"
   ]
  },
  {
   "cell_type": "markdown",
   "id": "e15dc011-fc45-4e08-8464-646b2e8dbea4",
   "metadata": {},
   "source": [
    "### Recap\n",
    "In this short tutorial, we got a short glimpse at design pattern, anti-pattern, and tricks and tips. By no means it is comprehensive, but we touched upon some methods we have seen in the previous lessons. With those methods, we explored additional arguments to the `.remote()` call such as number of return statements.\n",
    "\n",
    "More importantly, we walked through some tips and tricks that many developers new to Ray can easily stumble upon. Although the examples were short and simple, the lessons behind the cautionary tales are important part of the learning process."
   ]
  },
  {
   "cell_type": "markdown",
   "id": "fbba4f2d-ed4a-42f7-b59d-ac7c5f2bca43",
   "metadata": {},
   "source": [
    "### Homework \n",
    "\n",
    "There is a advanced and comprehensive list of all [Ray design patterns and anti-design patterns](https://docs.ray.io/en/latest/ray-core/patterns/index.html#design-patterns-anti-patternsray.shutdown()) you can explore at after the class at home.\n",
    "\n",
    "### Additional Resource on Best Practices\n",
    " * [User Guides for Ray Clusters](https://docs.ray.io/en/latest/cluster/vms/user-guides/index.html)\n",
    " * [Best practices for deploying large clusters](https://docs.ray.io/en/latest/cluster/vms/user-guides/large-cluster-best-practices.html)\n",
    " * [Launching an On-Premise Cluster](https://docs.ray.io/en/latest/cluster/vms/user-guides/launching-clusters/on-premises.html)\n",
    " * [Configuring Autoscaling](https://docs.ray.io/en/latest/cluster/vms/user-guides/configuring-autoscaling.html)"
   ]
  },
  {
   "cell_type": "code",
   "execution_count": null,
   "id": "17090bb2-6f50-4929-9f29-2f96013cc978",
   "metadata": {},
   "outputs": [],
   "source": [
    "ray.shutdown()"
   ]
  },
  {
   "cell_type": "code",
   "execution_count": null,
   "id": "6a21ed41-16ad-4d6e-8554-937aa57e7267",
   "metadata": {},
   "outputs": [],
   "source": []
  }
 ],
 "metadata": {
  "kernelspec": {
   "display_name": "Python 3 (ipykernel)",
   "language": "python",
   "name": "python3"
  },
  "language_info": {
   "codemirror_mode": {
    "name": "ipython",
    "version": 3
   },
   "file_extension": ".py",
   "mimetype": "text/x-python",
   "name": "python",
   "nbconvert_exporter": "python",
   "pygments_lexer": "ipython3",
   "version": "3.11.8"
  }
 },
 "nbformat": 4,
 "nbformat_minor": 5
}
